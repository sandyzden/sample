{
 "cells": [
  {
   "cell_type": "markdown",
   "metadata": {},
   "source": [
    "<center><h2>Artificial and Computational Intelligence (Assignment - 2)</h2></center>"
   ]
  },
  {
   "cell_type": "markdown",
   "metadata": {},
   "source": [
    "## Problem Statement\n",
    "\n",
    "As part of the 2nd Assignment, we'll implement Bayesian Networks and also learn to use the pomegranate library.\n",
    "\n",
    "You are required to create a bayesian network model which would help you predict the probability. The detailed problem description is attached as a PDF as a part of this assignment along with the marking scheme.  \n",
    "\n",
    "### What is a Bayesian Network ?\n",
    "\n",
    "A Bayesian network, Bayes network, belief network, decision network, Bayes(ian) model or probabilistic directed acyclic graphical model is a probabilistic graphical model (a type of statistical model) that represents a set of variables and their conditional dependencies via a directed acyclic graph (DAG). \n",
    "\n",
    "Bayesian networks are ideal for taking an event that occurred and predicting the likelihood that any one of several possible known causes was the contributing factor. For example, a Bayesian network could represent the probabilistic relationships between diseases and symptoms. Given symptoms, the network can be used to compute the probabilities of the presence of various diseases. \n",
    "\n",
    "### Dataset\n",
    "\n",
    "The dataset can be downloaded from https://drive.google.com/drive/folders/1oMtKmmvPkN4O8DmrHMJe6M8CbB93Z5kw .You can access it only using your BITS IDs. Also, the same dataset is attached along with the assignment. \n",
    "\n",
    "#### Dataset Description\n",
    "##### Sample Tuple\n",
    "\n",
    "Y\twon\t5wickets\tlost\t2nd\tvWest_Indies\tHome\t6-Nov-11\n",
    "\n",
    "##### Explanation\n",
    "- The first column represents if Ashwin was in the playing 11 or not. \n",
    "- The second column represents the Result of the match . win indicates India won the match.\n",
    "- The third column represents the Margin of victory / losss.\n",
    "- The fourth column represents the results of the toss. won indicates India won the toss. \n",
    "- The fifth column represents the batting order. If India batted 1st or 2nd. \n",
    "- The sixth column represents the opponent.\n",
    "- The seventh column represents the location of the match. If the match was held in Home(India) or away. \n",
    "- The last column represents the start date of the match.\n",
    "\n",
    "\n",
    "### Evaluation\n",
    "We wish to evaluate based on \n",
    "- coding practices being followed\n",
    "- commenting to explain the code and logic behind doing something\n",
    "- your understanding and explanation of data\n",
    "- how good the model would perform"
   ]
  },
  {
   "cell_type": "code",
   "execution_count": null,
   "metadata": {},
   "outputs": [],
   "source": [
    "# BITS RollNumbers , Names. "
   ]
  },
  {
   "cell_type": "code",
   "execution_count": 53,
   "metadata": {},
   "outputs": [],
   "source": [
    "#Import libraries\n",
    "import pandas as pd\n",
    "import string\n",
    "from pomegranate import *"
   ]
  },
  {
   "cell_type": "code",
   "execution_count": 4,
   "metadata": {},
   "outputs": [
    {
     "data": {
      "text/plain": [
       "<bound method NDFrame.head of    Ashwin Result           Margin  Toss  Bat      Opposition Location  \\\n",
       "0       Y    won        5 wickets  lost  2nd   v West Indies     Home   \n",
       "1       Y    won   inns & 15 runs   won  1st   v West Indies     Home   \n",
       "2       Y   draw                -  lost  2nd   v West Indies     Home   \n",
       "3       Y   lost         122 runs  lost  2nd     v Australia     Away   \n",
       "4       Y   lost   inns & 68 runs   won  1st     v Australia     Away   \n",
       "..    ...    ...              ...   ...  ...             ...      ...   \n",
       "80      Y    won         203 runs   won  1st  v South Africa     Home   \n",
       "81      Y    won  inns & 137 runs   won  1st  v South Africa     Home   \n",
       "82      Y    won  inns & 202 runs   won  1st  v South Africa     Home   \n",
       "83      Y    won  inns & 130 runs  lost  2nd    v Bangladesh     Home   \n",
       "84      Y    won   inns & 46 runs  lost  2nd    v Bangladesh     Home   \n",
       "\n",
       "   Start Date  \n",
       "0  2011-11-06  \n",
       "1  2011-11-14  \n",
       "2  2011-11-22  \n",
       "3  2011-12-26  \n",
       "4  2012-01-03  \n",
       "..        ...  \n",
       "80 2019-10-02  \n",
       "81 2019-10-10  \n",
       "82 2019-10-19  \n",
       "83 2019-11-14  \n",
       "84 2019-11-22  \n",
       "\n",
       "[85 rows x 8 columns]>"
      ]
     },
     "execution_count": 4,
     "metadata": {},
     "output_type": "execute_result"
    }
   ],
   "source": [
    "#Read data\n",
    "filename = 'India_Test_Stats.xlsx'\n",
    "df = pd.read_excel(filename)"
   ]
  },
  {
   "cell_type": "code",
   "execution_count": 50,
   "metadata": {},
   "outputs": [
    {
     "data": {
      "text/plain": [
       "['Ashwin', 'Result', 'Toss', 'Bat', 'Location']"
      ]
     },
     "execution_count": 50,
     "metadata": {},
     "output_type": "execute_result"
    }
   ],
   "source": [
    "# df.head\n",
    "df.columns.to_list()"
   ]
  },
  {
   "cell_type": "code",
   "execution_count": 49,
   "metadata": {},
   "outputs": [],
   "source": [
    "#Pre-process data (Whatever you feel might be required)\n",
    "df = df.drop(columns = ['Margin', 'Opposition', 'Start Date'])"
   ]
  },
  {
   "cell_type": "code",
   "execution_count": null,
   "metadata": {},
   "outputs": [],
   "source": [
    "#Data Description"
   ]
  },
  {
   "cell_type": "code",
   "execution_count": null,
   "metadata": {},
   "outputs": [],
   "source": [
    "#Construction of Bayesian Network goes here "
   ]
  },
  {
   "cell_type": "code",
   "execution_count": 58,
   "metadata": {},
   "outputs": [],
   "source": [
    "#Solution for part 1 \n",
    "def prior_prob(arr):\n",
    "    mydict = dict()\n",
    "    keys = list(set(arr))    \n",
    "    nobs = len(arr)\n",
    "    for i, val in enumerate(keys):\n",
    "        mydict[keys[i]] = len(arr[arr == keys[i]]) / nobs\n",
    "    return mydict\n"
   ]
  },
  {
   "cell_type": "code",
   "execution_count": 60,
   "metadata": {},
   "outputs": [
    {
     "name": "stdout",
     "output_type": "stream",
     "text": [
      "{'N': 0.17647058823529413, 'Y': 0.8235294117647058}\n"
     ]
    }
   ],
   "source": [
    "mydict = prior_prob(df['Ashwin'])\n",
    "print(mydict)"
   ]
  },
  {
   "cell_type": "code",
   "execution_count": 33,
   "metadata": {},
   "outputs": [],
   "source": [
    "#Solution for part 2 \n",
    "def cond_prob(var_1, var_2):\n",
    "    cond_prob_list = list()\n",
    "    cat_1 = list(set(df[var_1]))     \n",
    "    cat_2 = list(set(df[var_2]))    \n",
    "    for i in cat_1:\n",
    "        arr = df[df[var_1] == cat_1[0]][var_2]\n",
    "        length = len(arr)\n",
    "        for j in cat_2:\n",
    "             cond_prob_list.append( [i, j, len(arr[arr == j]) / length] )\n",
    "    return cond_prob_list     "
   ]
  },
  {
   "cell_type": "code",
   "execution_count": 34,
   "metadata": {},
   "outputs": [
    {
     "name": "stdout",
     "output_type": "stream",
     "text": [
      "['draw', 'won', 'lost']\n",
      "[['N', 'draw', 0.2], ['N', 'won', 0.3333333333333333], ['N', 'lost', 0.4666666666666667], ['Y', 'draw', 0.2], ['Y', 'won', 0.3333333333333333], ['Y', 'lost', 0.4666666666666667]]\n"
     ]
    }
   ],
   "source": [
    "var_1 = 'Ashwin'; var_2 = 'Result'\n",
    "cond_prob_list = cond_prob(var_1, var_2)\n",
    "print(cond_prob_list)"
   ]
  },
  {
   "cell_type": "code",
   "execution_count": 61,
   "metadata": {},
   "outputs": [],
   "source": [
    "#Solution for part 3 \n",
    "\"\"\"\n",
    "Columns in Data -\n",
    " 'Ashwin',\n",
    " 'Result',\n",
    " 'Toss',\n",
    " 'Bat',\n",
    " 'Location',\n",
    "\"\"\"\n",
    "Ashwin = DiscreteDistribution(prior_prob(df['Ashwin']))\n",
    "Toss = DiscreteDistribution(prior_prob(df['Toss']))\n",
    "Bat = ConditionalProbabilityTable(cond_prob(df['Toss'], df['Bat']))\n",
    "Location = DiscreteDistribution(prior_prob(df['Location']))\n",
    "Result = ConditionalProbabilityTable(cond_prob(df['Ashwin'], df['Bat'], df['Location'], df['Result']))\n",
    "\n",
    "node_Ashwin = Node(Ashwin, name=\"Ashwin\")\n",
    "node_Toss = Node(Toss, name=\"Toss\")\n",
    "node_Bat = Node(Bat, name=\"Bat\")\n",
    "node_Location = Node(Location, name=\"Location\")\n",
    "node_Result = Node(Result, name=\"Result\")\n",
    "\n",
    "model = BayesianNetwork(\"Selectors Conundrum\")\n",
    "model.add_states(node_Ashwin, node_Location, node_Toss, node_Bat, node_Result)\n",
    "model.add_edge(node_Ashwin, node_Result)\n",
    "model.add_edge(node_Toss, node_Bat)\n",
    "model.add_edge(node_Bat, node_Result)\n",
    "model.add_edge(node_Location, node_Result)\n",
    "model.bake()"
   ]
  },
  {
   "cell_type": "code",
   "execution_count": null,
   "metadata": {},
   "outputs": [],
   "source": [
    "#Solution for part 4\n",
    "#['Ashwin', 'Toss', Bat', 'Location', Result']\n",
    "# a)\n",
    "solution_a = sum( model.probability([['Y', 'lost' '2nd', 'Home', 'won'],\n",
    "                                     ['Y', 'won' '2nd', 'Home', 'won'],\n",
    "                                     ['Y', 'lost' '2nd', 'Away', 'won'],\n",
    "                                     ['Y', 'won' '2nd', 'Away', 'won']]) )\n",
    "print(solution_a)\n",
    "\n",
    "# b)\n",
    "solution_b = sum( model.probability([['N', 'lost' '2nd', 'Home', 'won'],\n",
    "                                     ['N', 'won' '2nd', 'Home', 'won'],\n",
    "                                     ['N', 'lost' '2nd', 'Away', 'won'],\n",
    "                                     ['N', 'won' '2nd', 'Away', 'won']]) )\n",
    "print(solution_b)\n",
    "\n",
    "# c)\n",
    "solution_c = sum( model.probability([['Y', 'lost' '2nd', 'Home', 'lost'],\n",
    "                                     ['Y', 'won' '2nd', 'Home', 'lost'],\n",
    "                                     ['Y', 'lost' '2nd', 'Away', 'lost'],\n",
    "                                     ['Y', 'won' '2nd', 'Away', 'lost']]) )\n",
    "print(solution_c)\n",
    "\n",
    "# d) \n",
    "solution_d = sum( model.probability([['N', 'lost' '2nd', 'Home', 'lost'],\n",
    "                                     ['N', 'won' '2nd', 'Home', 'lost'],\n",
    "                                     ['N', 'lost' '2nd', 'Away', 'lost'],\n",
    "                                     ['N', 'won' '2nd', 'Away', 'lost']]) )\n",
    "print(solution_d)"
   ]
  },
  {
   "cell_type": "code",
   "execution_count": null,
   "metadata": {},
   "outputs": [],
   "source": [
    "#Feel free to add cells where necessary. "
   ]
  },
  {
   "cell_type": "markdown",
   "metadata": {},
   "source": [
    "<h3><center> Happy Coding!</center></h3>"
   ]
  }
 ],
 "metadata": {
  "kernelspec": {
   "display_name": "Python 3",
   "language": "python",
   "name": "python3"
  },
  "language_info": {
   "codemirror_mode": {
    "name": "ipython",
    "version": 3
   },
   "file_extension": ".py",
   "mimetype": "text/x-python",
   "name": "python",
   "nbconvert_exporter": "python",
   "pygments_lexer": "ipython3",
   "version": "3.7.4"
  }
 },
 "nbformat": 4,
 "nbformat_minor": 2
}
