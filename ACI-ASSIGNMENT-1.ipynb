{
 "cells": [
  {
   "cell_type": "markdown",
   "metadata": {},
   "source": [
    "<center><h1> Artifical and Computational Intelligence Assignment 1 </h1></center>\n",
    " \n",
    "Problem Solving by using A*\n",
    "\n",
    "Weightage: 13%\n",
    "\n",
    "Date of Posting - 09/Dec/2019\n"
   ]
  },
  {
   "cell_type": "markdown",
   "metadata": {},
   "source": [
    "Please Enter group and Individual information below:\n",
    "\n",
    "Group ID/Number:ACI_Group12\n",
    "\n",
    "Group Members BITS ID:\n",
    "2018AB04613@wilp.bits-pilani.ac.in\n",
    "2018AB04731@wilp.bits-pilani.ac.in\n",
    "2018AB04667@wilp.bits-pilani.ac.in\n",
    "2018ab04532@wilp.bits-pilani.ac.in"
   ]
  },
  {
   "cell_type": "code",
   "execution_count": 1,
   "metadata": {},
   "outputs": [],
   "source": [
    "from math import radians, cos, sin, atan2, sqrt\n",
    "\n",
    "\n",
    "def haversine(lat1,lon1,lat2,lon2):\n",
    "        # haversine formula \n",
    "        radius = 6371  # km\n",
    "\n",
    "        dlat = radians(lat2 - lat1)\n",
    "        dlon = radians(lon2 - lon1)\n",
    "        a = (sin(dlat / 2) * sin(dlat / 2) + cos(radians(lat1)) * cos(radians(lat2)) * sin(dlon / 2) * sin(dlon / 2))\n",
    "        c = 2 * atan2(sqrt(a), sqrt(1 - a))\n",
    "        d = radius * c\n",
    "\n",
    "        return d"
   ]
  },
  {
   "cell_type": "code",
   "execution_count": 2,
   "metadata": {},
   "outputs": [],
   "source": [
    "class City:\n",
    "    def __init__(self, node, latt, longg):\n",
    "        self.id = node\n",
    "        self.latt = latt\n",
    "        self.longg = longg\n",
    "        self.adjacent = {}\n",
    "        \n",
    "\n",
    "    def __str__(self):\n",
    "        return str(self.id) + ' adjacent: ' + str([x.id for x in self.adjacent])\n",
    "    \n",
    "\n",
    "    def add_neighbor(self, neighbor, weight=0):\n",
    "        self.adjacent[neighbor] = weight\n",
    "\n",
    "    def get_connections(self):\n",
    "        cities = []\n",
    "        for x in self.adjacent:\n",
    "            cities.append(x.id)\n",
    "        return cities\n",
    "    \n",
    "    def get_distance(self, node):\n",
    "        for x in self.adjacent:\n",
    "            if x.id == node:\n",
    "                return self.get_weight(x)\n",
    "\n",
    "    def get_id(self):\n",
    "        return self.id\n",
    "    \n",
    "\n",
    "    def get_weight(self, neighbor):\n",
    "        return self.adjacent[neighbor]\n",
    "    \n",
    "    def get_heuristic_value(self):\n",
    "        return haversine(self.latt,self.longg,13.0827,80.2707)"
   ]
  },
  {
   "cell_type": "code",
   "execution_count": 3,
   "metadata": {},
   "outputs": [],
   "source": [
    "class Map:\n",
    "    def __init__(self):\n",
    "        self.vert_dict = {}\n",
    "        self.num_vertices = 0\n",
    "\n",
    "    def __iter__(self):\n",
    "        return iter(self.vert_dict.values())\n",
    "\n",
    "    def add_city(self, node,latt,longg):\n",
    "        self.num_vertices = self.num_vertices + 1\n",
    "        new_vertex = City(node,latt,longg)\n",
    "        self.vert_dict[node] = new_vertex\n",
    "        return new_vertex\n",
    "\n",
    "    def get_city(self, n):\n",
    "        if n in self.vert_dict:\n",
    "            return self.vert_dict[n]\n",
    "        else:\n",
    "            return None\n",
    "\n",
    "    def add_direction(self, frm, to, cost = 0):\n",
    "        if frm not in self.vert_dict:\n",
    "            self.add_vertex(frm)\n",
    "        if to not in self.vert_dict:\n",
    "            self.add_vertex(to)\n",
    "\n",
    "        self.vert_dict[frm].add_neighbor(self.vert_dict[to], cost)\n",
    "        self.vert_dict[to].add_neighbor(self.vert_dict[frm], cost)\n",
    "\n",
    "    def get_cities(self):\n",
    "        return self.vert_dict.keys()"
   ]
  },
  {
   "cell_type": "code",
   "execution_count": 4,
   "metadata": {},
   "outputs": [],
   "source": [
    "if __name__ == '__main__':\n",
    "\n",
    "    mapgraph = Map()"
   ]
  },
  {
   "cell_type": "code",
   "execution_count": 5,
   "metadata": {},
   "outputs": [
    {
     "data": {
      "text/plain": [
       "<__main__.City at 0x106e39190>"
      ]
     },
     "execution_count": 5,
     "metadata": {},
     "output_type": "execute_result"
    }
   ],
   "source": [
    "mapgraph.add_city('Panaji',15.4909,73.8278)\n",
    "mapgraph.add_city('Raichur',16.2076,77.3463)\n",
    "mapgraph.add_city('Mangalore',12.9141,74.8560)\n",
    "mapgraph.add_city('Bellari',15.1394,76.9214)\n",
    "mapgraph.add_city('Tirupati',13.6288,79.4192)\n",
    "mapgraph.add_city('Kurnool',15.8281,78.0373)\n",
    "mapgraph.add_city('Kozhikode',11.2588,75.7804)\n",
    "mapgraph.add_city('Bangalore',12.9716,77.5946)\n",
    "mapgraph.add_city('Nellore',14.4426,79.9865)\n",
    "mapgraph.add_city('Chennai',13.0827,80.2707)"
   ]
  },
  {
   "cell_type": "code",
   "execution_count": 6,
   "metadata": {},
   "outputs": [],
   "source": [
    "mapgraph.add_direction('Panaji','Raichur',457)\n",
    "mapgraph.add_direction('Panaji','Mangalore',365)\n",
    "mapgraph.add_direction('Panaji','Bellari',409)\n",
    "mapgraph.add_direction('Raichur','Kurnool',100)\n",
    "mapgraph.add_direction('Raichur','Tirupati',453)\n",
    "mapgraph.add_direction('Mangalore','Kozhikode',233)\n",
    "mapgraph.add_direction('Mangalore','Bangalore',352)\n",
    "mapgraph.add_direction('Bellari','Bangalore',311)\n",
    "mapgraph.add_direction('Bellari','Tirupati',379)\n",
    "mapgraph.add_direction('Kurnool','Tirupati',340)\n",
    "mapgraph.add_direction('Kurnool','Nellore',325)\n",
    "mapgraph.add_direction('Tirupati','Nellore',136)\n",
    "mapgraph.add_direction('Tirupati','Chennai',153)\n",
    "mapgraph.add_direction('Kozhikode','Bangalore',356)\n",
    "mapgraph.add_direction('Bangalore','Chennai',346)\n",
    "mapgraph.add_direction('Nellore','Chennai',175)"
   ]
  },
  {
   "cell_type": "code",
   "execution_count": 7,
   "metadata": {},
   "outputs": [
    {
     "data": {
      "text/plain": [
       "dict_keys(['Panaji', 'Raichur', 'Mangalore', 'Bellari', 'Tirupati', 'Kurnool', 'Kozhikode', 'Bangalore', 'Nellore', 'Chennai'])"
      ]
     },
     "execution_count": 7,
     "metadata": {},
     "output_type": "execute_result"
    }
   ],
   "source": [
    "mapgraph.get_cities()"
   ]
  },
  {
   "cell_type": "code",
   "execution_count": 14,
   "metadata": {},
   "outputs": [],
   "source": [
    "start_node = mapgraph.get_city('Panaji')\n",
    "start_node.f = start_node.g = start_node.h = 0\n",
    "end_node = mapgraph.get_city('Chennai')\n",
    "end_node.f = end_node.g = end_node.h = 0"
   ]
  },
  {
   "cell_type": "code",
   "execution_count": 15,
   "metadata": {},
   "outputs": [],
   "source": [
    "def find_all_paths(graph, start, end, path=[]):\n",
    "    path = path + [start.id]\n",
    "    if start.id == end.id:\n",
    "        return [path]\n",
    "    if start not in graph:\n",
    "        return []\n",
    "    paths = []\n",
    "    for node in start.get_connections():\n",
    "        if node not in path:\n",
    "            extended_path = find_all_paths(graph,graph.get_city(node),end,path)\n",
    "            for ext_path in extended_path:\n",
    "                paths.append(ext_path)\n",
    "    return paths\n",
    "                "
   ]
  },
  {
   "cell_type": "code",
   "execution_count": 16,
   "metadata": {},
   "outputs": [],
   "source": [
    "visited_path = find_all_paths(mapgraph,start_node,end_node)"
   ]
  },
  {
   "cell_type": "code",
   "execution_count": 17,
   "metadata": {},
   "outputs": [
    {
     "name": "stdout",
     "output_type": "stream",
     "text": [
      "['Panaji', 'Raichur', 'Kurnool', 'Tirupati', 'Bellari', 'Bangalore', 'Chennai']\n",
      "['Panaji', 'Raichur', 'Kurnool', 'Tirupati', 'Nellore', 'Chennai']\n",
      "['Panaji', 'Raichur', 'Kurnool', 'Tirupati', 'Chennai']\n",
      "['Panaji', 'Raichur', 'Kurnool', 'Nellore', 'Tirupati', 'Bellari', 'Bangalore', 'Chennai']\n",
      "['Panaji', 'Raichur', 'Kurnool', 'Nellore', 'Tirupati', 'Chennai']\n",
      "['Panaji', 'Raichur', 'Kurnool', 'Nellore', 'Chennai']\n",
      "['Panaji', 'Raichur', 'Tirupati', 'Bellari', 'Bangalore', 'Chennai']\n",
      "['Panaji', 'Raichur', 'Tirupati', 'Kurnool', 'Nellore', 'Chennai']\n",
      "['Panaji', 'Raichur', 'Tirupati', 'Nellore', 'Chennai']\n",
      "['Panaji', 'Raichur', 'Tirupati', 'Chennai']\n",
      "['Panaji', 'Mangalore', 'Kozhikode', 'Bangalore', 'Bellari', 'Tirupati', 'Raichur', 'Kurnool', 'Nellore', 'Chennai']\n",
      "['Panaji', 'Mangalore', 'Kozhikode', 'Bangalore', 'Bellari', 'Tirupati', 'Kurnool', 'Nellore', 'Chennai']\n",
      "['Panaji', 'Mangalore', 'Kozhikode', 'Bangalore', 'Bellari', 'Tirupati', 'Nellore', 'Chennai']\n",
      "['Panaji', 'Mangalore', 'Kozhikode', 'Bangalore', 'Bellari', 'Tirupati', 'Chennai']\n",
      "['Panaji', 'Mangalore', 'Kozhikode', 'Bangalore', 'Chennai']\n",
      "['Panaji', 'Mangalore', 'Bangalore', 'Bellari', 'Tirupati', 'Raichur', 'Kurnool', 'Nellore', 'Chennai']\n",
      "['Panaji', 'Mangalore', 'Bangalore', 'Bellari', 'Tirupati', 'Kurnool', 'Nellore', 'Chennai']\n",
      "['Panaji', 'Mangalore', 'Bangalore', 'Bellari', 'Tirupati', 'Nellore', 'Chennai']\n",
      "['Panaji', 'Mangalore', 'Bangalore', 'Bellari', 'Tirupati', 'Chennai']\n",
      "['Panaji', 'Mangalore', 'Bangalore', 'Chennai']\n",
      "['Panaji', 'Bellari', 'Bangalore', 'Chennai']\n",
      "['Panaji', 'Bellari', 'Tirupati', 'Raichur', 'Kurnool', 'Nellore', 'Chennai']\n",
      "['Panaji', 'Bellari', 'Tirupati', 'Kurnool', 'Nellore', 'Chennai']\n",
      "['Panaji', 'Bellari', 'Tirupati', 'Nellore', 'Chennai']\n",
      "['Panaji', 'Bellari', 'Tirupati', 'Chennai']\n"
     ]
    }
   ],
   "source": [
    "for i in visited_path:\n",
    "    print(i)"
   ]
  },
  {
   "cell_type": "code",
   "execution_count": 37,
   "metadata": {},
   "outputs": [
    {
     "name": "stdout",
     "output_type": "stream",
     "text": [
      "Path ['Panaji', 'Raichur', 'Kurnool', 'Tirupati', 'Bellari', 'Bangalore', 'Chennai']FN Cost = 1933HN Cost = 3370.589344607018Total Cost = 5303.589344607019\n",
      "Path ['Panaji', 'Raichur', 'Kurnool', 'Tirupati', 'Nellore', 'Chennai']FN Cost = 1208HN Cost = 2243.8818874787303Total Cost = 3451.8818874787303\n",
      "Path ['Panaji', 'Raichur', 'Kurnool', 'Tirupati', 'Chennai']FN Cost = 1050HN Cost = 1935.286645205074Total Cost = 2985.286645205074\n",
      "Path ['Panaji', 'Raichur', 'Kurnool', 'Nellore', 'Tirupati', 'Bellari', 'Bangalore', 'Chennai']FN Cost = 2054HN Cost = 3679.1845868806745Total Cost = 5733.184586880674\n",
      "Path ['Panaji', 'Raichur', 'Kurnool', 'Nellore', 'Tirupati', 'Chennai']FN Cost = 1171HN Cost = 2243.8818874787303Total Cost = 3414.8818874787303\n",
      "Path ['Panaji', 'Raichur', 'Kurnool', 'Nellore', 'Chennai']FN Cost = 1057HN Cost = 2023.2130575998353Total Cost = 3080.2130575998353\n",
      "Path ['Panaji', 'Raichur', 'Tirupati', 'Bellari', 'Bangalore', 'Chennai']FN Cost = 1946HN Cost = 2593.3896869112837Total Cost = 4539.389686911283\n",
      "Path ['Panaji', 'Raichur', 'Tirupati', 'Kurnool', 'Nellore', 'Chennai']FN Cost = 1750HN Cost = 2243.8818874787303Total Cost = 3993.8818874787303\n",
      "Path ['Panaji', 'Raichur', 'Tirupati', 'Nellore', 'Chennai']FN Cost = 1221HN Cost = 1466.6822297829954Total Cost = 2687.6822297829954\n",
      "Path ['Panaji', 'Raichur', 'Tirupati', 'Chennai']FN Cost = 1063HN Cost = 1158.086987509339Total Cost = 2221.086987509339\n",
      "Path ['Panaji', 'Mangalore', 'Kozhikode', 'Bangalore', 'Bellari', 'Tirupati', 'Raichur', 'Kurnool', 'Nellore', 'Chennai']FN Cost = 2697HN Cost = 5910.096978555536Total Cost = 8607.096978555535\n",
      "Path ['Panaji', 'Mangalore', 'Kozhikode', 'Bangalore', 'Bellari', 'Tirupati', 'Kurnool', 'Nellore', 'Chennai']FN Cost = 2484HN Cost = 4972.678820925093Total Cost = 7456.678820925093\n",
      "Path ['Panaji', 'Mangalore', 'Kozhikode', 'Bangalore', 'Bellari', 'Tirupati', 'Nellore', 'Chennai']FN Cost = 1955HN Cost = 4195.479163229358Total Cost = 6150.479163229358\n",
      "Path ['Panaji', 'Mangalore', 'Kozhikode', 'Bangalore', 'Bellari', 'Tirupati', 'Chennai']FN Cost = 1797HN Cost = 3886.883920955702Total Cost = 5683.883920955702\n",
      "Path ['Panaji', 'Mangalore', 'Kozhikode', 'Bangalore', 'Chennai']FN Cost = 1300HN Cost = 2811.256441580985Total Cost = 4111.256441580985\n",
      "Path ['Panaji', 'Mangalore', 'Bangalore', 'Bellari', 'Tirupati', 'Raichur', 'Kurnool', 'Nellore', 'Chennai']FN Cost = 2460HN Cost = 4853.079938449789Total Cost = 7313.079938449789\n",
      "Path ['Panaji', 'Mangalore', 'Bangalore', 'Bellari', 'Tirupati', 'Kurnool', 'Nellore', 'Chennai']FN Cost = 2247HN Cost = 3915.6617808193455Total Cost = 6162.661780819346\n",
      "Path ['Panaji', 'Mangalore', 'Bangalore', 'Bellari', 'Tirupati', 'Nellore', 'Chennai']FN Cost = 1718HN Cost = 3138.4621231236106Total Cost = 4856.462123123611\n",
      "Path ['Panaji', 'Mangalore', 'Bangalore', 'Bellari', 'Tirupati', 'Chennai']FN Cost = 1560HN Cost = 2829.866880849954Total Cost = 4389.866880849954\n",
      "Path ['Panaji', 'Mangalore', 'Bangalore', 'Chennai']FN Cost = 1063HN Cost = 1754.2394014752372Total Cost = 2817.239401475237\n",
      "Path ['Panaji', 'Bellari', 'Bangalore', 'Chennai']FN Cost = 1066HN Cost = 1435.3026994019442Total Cost = 2501.302699401944\n",
      "Path ['Panaji', 'Bellari', 'Tirupati', 'Raichur', 'Kurnool', 'Nellore', 'Chennai']FN Cost = 1841HN Cost = 3098.840536974552Total Cost = 4939.840536974552\n",
      "Path ['Panaji', 'Bellari', 'Tirupati', 'Kurnool', 'Nellore', 'Chennai']FN Cost = 1628HN Cost = 2161.422379344108Total Cost = 3789.422379344108\n",
      "Path ['Panaji', 'Bellari', 'Tirupati', 'Nellore', 'Chennai']FN Cost = 1099HN Cost = 1384.2227216483732Total Cost = 2483.2227216483734\n",
      "Path ['Panaji', 'Bellari', 'Tirupati', 'Chennai']FN Cost = 941HN Cost = 1075.6274793747168Total Cost = 2016.6274793747168\n"
     ]
    }
   ],
   "source": [
    "opt_path = []\n",
    "min_dist = 0\n",
    "for path in visited_path:\n",
    "    fn_cost = 0\n",
    "    hn_cost = 0\n",
    "    total_cost = 0\n",
    "    for i in range(0,len(path)-1):\n",
    "        i_node = mapgraph.get_city(path[i])\n",
    "        i_next_node = mapgraph.get_city(path[i+1])\n",
    "        gn_cost = i_node.get_weight(i_next_node)\n",
    "        if i == 0:\n",
    "            heuristic_value = i_next_node.get_heuristic_value()\n",
    "        else:\n",
    "            heuristic_value = i_node.get_heuristic_value() + i_next_node.get_heuristic_value()\n",
    "        fn_cost = fn_cost + gn_cost\n",
    "        hn_cost = hn_cost + heuristic_value\n",
    "        total_cost = fn_cost + hn_cost\n",
    "    print(\"Path \"+str(path)+\"FN Cost = \"+str(fn_cost)+\"HN Cost = \"+str(hn_cost)+\"Total Cost = \"+str(total_cost))\n",
    "    if min_dist == 0:\n",
    "        min_dist = total_cost\n",
    "        opt_path = path\n",
    "    elif min_dist > total_cost:\n",
    "        min_dist = total_cost\n",
    "        opt_path = path\n",
    "\n",
    "\n",
    "            \n",
    "        "
   ]
  },
  {
   "cell_type": "code",
   "execution_count": 38,
   "metadata": {},
   "outputs": [
    {
     "name": "stdout",
     "output_type": "stream",
     "text": [
      "Optimum Path = ['Panaji', 'Bellari', 'Tirupati', 'Chennai'] Minumum Heuristic Distance =2016.6274793747168\n"
     ]
    }
   ],
   "source": [
    "print(\"Optimum Path = \"+str(opt_path)+\" Minumum Heuristic Distance =\"+str(min_dist))"
   ]
  },
  {
   "cell_type": "code",
   "execution_count": null,
   "metadata": {},
   "outputs": [],
   "source": []
  }
 ],
 "metadata": {
  "kernelspec": {
   "display_name": "Python 3",
   "language": "python",
   "name": "python3"
  },
  "language_info": {
   "codemirror_mode": {
    "name": "ipython",
    "version": 3
   },
   "file_extension": ".py",
   "mimetype": "text/x-python",
   "name": "python",
   "nbconvert_exporter": "python",
   "pygments_lexer": "ipython3",
   "version": "3.7.6"
  }
 },
 "nbformat": 4,
 "nbformat_minor": 2
}
