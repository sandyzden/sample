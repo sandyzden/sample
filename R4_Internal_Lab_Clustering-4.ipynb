{
 "cells": [
  {
   "cell_type": "markdown",
   "metadata": {},
   "source": [
    "### The data set has information about features of silhouette extracted from the images of different cars\n",
    "\n",
    "Four \"Corgie\" model vehicles were used for the experiment: a double decker bus, Cheverolet van, Saab 9000 and an Opel Manta 400 cars. This particular combination of vehicles was chosen with the expectation that the bus, van and either one of the cars would be readily distinguishable, but it would be more difficult to distinguish between the cars.\n",
    "\n"
   ]
  },
  {
   "cell_type": "markdown",
   "metadata": {},
   "source": [
    "### 1. Read the dataset using function .dropna() - to avoid dealing with NAs as of now"
   ]
  },
  {
   "cell_type": "code",
   "execution_count": 12,
   "metadata": {},
   "outputs": [
    {
     "data": {
      "text/html": [
       "<div>\n",
       "<style scoped>\n",
       "    .dataframe tbody tr th:only-of-type {\n",
       "        vertical-align: middle;\n",
       "    }\n",
       "\n",
       "    .dataframe tbody tr th {\n",
       "        vertical-align: top;\n",
       "    }\n",
       "\n",
       "    .dataframe thead th {\n",
       "        text-align: right;\n",
       "    }\n",
       "</style>\n",
       "<table border=\"1\" class=\"dataframe\">\n",
       "  <thead>\n",
       "    <tr style=\"text-align: right;\">\n",
       "      <th></th>\n",
       "      <th>compactness</th>\n",
       "      <th>circularity</th>\n",
       "      <th>distance_circularity</th>\n",
       "      <th>radius_ratio</th>\n",
       "      <th>pr.axis_aspect_ratio</th>\n",
       "      <th>max.length_aspect_ratio</th>\n",
       "      <th>scatter_ratio</th>\n",
       "      <th>elongatedness</th>\n",
       "      <th>pr.axis_rectangularity</th>\n",
       "      <th>max.length_rectangularity</th>\n",
       "      <th>scaled_variance</th>\n",
       "      <th>scaled_variance.1</th>\n",
       "      <th>scaled_radius_of_gyration</th>\n",
       "      <th>scaled_radius_of_gyration.1</th>\n",
       "      <th>skewness_about</th>\n",
       "      <th>skewness_about.1</th>\n",
       "      <th>skewness_about.2</th>\n",
       "      <th>hollows_ratio</th>\n",
       "      <th>class</th>\n",
       "    </tr>\n",
       "  </thead>\n",
       "  <tbody>\n",
       "    <tr>\n",
       "      <th>0</th>\n",
       "      <td>95</td>\n",
       "      <td>48.0</td>\n",
       "      <td>83.0</td>\n",
       "      <td>178.0</td>\n",
       "      <td>72.0</td>\n",
       "      <td>10</td>\n",
       "      <td>162.0</td>\n",
       "      <td>42.0</td>\n",
       "      <td>20.0</td>\n",
       "      <td>159</td>\n",
       "      <td>176.0</td>\n",
       "      <td>379.0</td>\n",
       "      <td>184.0</td>\n",
       "      <td>70.0</td>\n",
       "      <td>6.0</td>\n",
       "      <td>16.0</td>\n",
       "      <td>187.0</td>\n",
       "      <td>197</td>\n",
       "      <td>van</td>\n",
       "    </tr>\n",
       "    <tr>\n",
       "      <th>1</th>\n",
       "      <td>91</td>\n",
       "      <td>41.0</td>\n",
       "      <td>84.0</td>\n",
       "      <td>141.0</td>\n",
       "      <td>57.0</td>\n",
       "      <td>9</td>\n",
       "      <td>149.0</td>\n",
       "      <td>45.0</td>\n",
       "      <td>19.0</td>\n",
       "      <td>143</td>\n",
       "      <td>170.0</td>\n",
       "      <td>330.0</td>\n",
       "      <td>158.0</td>\n",
       "      <td>72.0</td>\n",
       "      <td>9.0</td>\n",
       "      <td>14.0</td>\n",
       "      <td>189.0</td>\n",
       "      <td>199</td>\n",
       "      <td>van</td>\n",
       "    </tr>\n",
       "    <tr>\n",
       "      <th>2</th>\n",
       "      <td>104</td>\n",
       "      <td>50.0</td>\n",
       "      <td>106.0</td>\n",
       "      <td>209.0</td>\n",
       "      <td>66.0</td>\n",
       "      <td>10</td>\n",
       "      <td>207.0</td>\n",
       "      <td>32.0</td>\n",
       "      <td>23.0</td>\n",
       "      <td>158</td>\n",
       "      <td>223.0</td>\n",
       "      <td>635.0</td>\n",
       "      <td>220.0</td>\n",
       "      <td>73.0</td>\n",
       "      <td>14.0</td>\n",
       "      <td>9.0</td>\n",
       "      <td>188.0</td>\n",
       "      <td>196</td>\n",
       "      <td>car</td>\n",
       "    </tr>\n",
       "    <tr>\n",
       "      <th>3</th>\n",
       "      <td>93</td>\n",
       "      <td>41.0</td>\n",
       "      <td>82.0</td>\n",
       "      <td>159.0</td>\n",
       "      <td>63.0</td>\n",
       "      <td>9</td>\n",
       "      <td>144.0</td>\n",
       "      <td>46.0</td>\n",
       "      <td>19.0</td>\n",
       "      <td>143</td>\n",
       "      <td>160.0</td>\n",
       "      <td>309.0</td>\n",
       "      <td>127.0</td>\n",
       "      <td>63.0</td>\n",
       "      <td>6.0</td>\n",
       "      <td>10.0</td>\n",
       "      <td>199.0</td>\n",
       "      <td>207</td>\n",
       "      <td>van</td>\n",
       "    </tr>\n",
       "    <tr>\n",
       "      <th>4</th>\n",
       "      <td>85</td>\n",
       "      <td>44.0</td>\n",
       "      <td>70.0</td>\n",
       "      <td>205.0</td>\n",
       "      <td>103.0</td>\n",
       "      <td>52</td>\n",
       "      <td>149.0</td>\n",
       "      <td>45.0</td>\n",
       "      <td>19.0</td>\n",
       "      <td>144</td>\n",
       "      <td>241.0</td>\n",
       "      <td>325.0</td>\n",
       "      <td>188.0</td>\n",
       "      <td>127.0</td>\n",
       "      <td>9.0</td>\n",
       "      <td>11.0</td>\n",
       "      <td>180.0</td>\n",
       "      <td>183</td>\n",
       "      <td>bus</td>\n",
       "    </tr>\n",
       "  </tbody>\n",
       "</table>\n",
       "</div>"
      ],
      "text/plain": [
       "   compactness  circularity  distance_circularity  radius_ratio  \\\n",
       "0           95         48.0                  83.0         178.0   \n",
       "1           91         41.0                  84.0         141.0   \n",
       "2          104         50.0                 106.0         209.0   \n",
       "3           93         41.0                  82.0         159.0   \n",
       "4           85         44.0                  70.0         205.0   \n",
       "\n",
       "   pr.axis_aspect_ratio  max.length_aspect_ratio  scatter_ratio  \\\n",
       "0                  72.0                       10          162.0   \n",
       "1                  57.0                        9          149.0   \n",
       "2                  66.0                       10          207.0   \n",
       "3                  63.0                        9          144.0   \n",
       "4                 103.0                       52          149.0   \n",
       "\n",
       "   elongatedness  pr.axis_rectangularity  max.length_rectangularity  \\\n",
       "0           42.0                    20.0                        159   \n",
       "1           45.0                    19.0                        143   \n",
       "2           32.0                    23.0                        158   \n",
       "3           46.0                    19.0                        143   \n",
       "4           45.0                    19.0                        144   \n",
       "\n",
       "   scaled_variance  scaled_variance.1  scaled_radius_of_gyration  \\\n",
       "0            176.0              379.0                      184.0   \n",
       "1            170.0              330.0                      158.0   \n",
       "2            223.0              635.0                      220.0   \n",
       "3            160.0              309.0                      127.0   \n",
       "4            241.0              325.0                      188.0   \n",
       "\n",
       "   scaled_radius_of_gyration.1  skewness_about  skewness_about.1  \\\n",
       "0                         70.0             6.0              16.0   \n",
       "1                         72.0             9.0              14.0   \n",
       "2                         73.0            14.0               9.0   \n",
       "3                         63.0             6.0              10.0   \n",
       "4                        127.0             9.0              11.0   \n",
       "\n",
       "   skewness_about.2  hollows_ratio class  \n",
       "0             187.0            197   van  \n",
       "1             189.0            199   van  \n",
       "2             188.0            196   car  \n",
       "3             199.0            207   van  \n",
       "4             180.0            183   bus  "
      ]
     },
     "execution_count": 12,
     "metadata": {},
     "output_type": "execute_result"
    }
   ],
   "source": [
    "import pandas as pd\n",
    "df = pd.read_csv('vehicle.csv')\n",
    "df.head()"
   ]
  },
  {
   "cell_type": "markdown",
   "metadata": {},
   "source": [
    "### 2. Print/ Plot the dependent (categorical variable) - Class column"
   ]
  },
  {
   "cell_type": "markdown",
   "metadata": {},
   "source": [
    "Since the variable is categorical, you can use value_counts function"
   ]
  },
  {
   "cell_type": "code",
   "execution_count": 18,
   "metadata": {},
   "outputs": [
    {
     "data": {
      "text/plain": [
       "<matplotlib.axes._subplots.AxesSubplot at 0xe8f9aed668>"
      ]
     },
     "execution_count": 18,
     "metadata": {},
     "output_type": "execute_result"
    },
    {
     "data": {
      "image/png": "[encoded data removed]",
      "text/plain": [
       "<Figure size 842.4x595.44 with 1 Axes>"
      ]
     },
     "metadata": {},
     "output_type": "display_data"
    }
   ],
   "source": [
    "sns.set(rc={'figure.figsize':(11.7,8.27)})\n",
    "sns.countplot(y='class', data=df)"
   ]
  },
  {
   "cell_type": "markdown",
   "metadata": {},
   "source": [
    "### Check for any missing values in the data "
   ]
  },
  {
   "cell_type": "code",
   "execution_count": 13,
   "metadata": {},
   "outputs": [
    {
     "name": "stdout",
     "output_type": "stream",
     "text": [
      "compactness                    0\n",
      "circularity                    5\n",
      "distance_circularity           4\n",
      "radius_ratio                   6\n",
      "pr.axis_aspect_ratio           2\n",
      "max.length_aspect_ratio        0\n",
      "scatter_ratio                  1\n",
      "elongatedness                  1\n",
      "pr.axis_rectangularity         3\n",
      "max.length_rectangularity      0\n",
      "scaled_variance                3\n",
      "scaled_variance.1              2\n",
      "scaled_radius_of_gyration      2\n",
      "scaled_radius_of_gyration.1    4\n",
      "skewness_about                 6\n",
      "skewness_about.1               1\n",
      "skewness_about.2               1\n",
      "hollows_ratio                  0\n",
      "class                          0\n",
      "dtype: int64\n",
      "After dropping the na values \n",
      "compactness                    0\n",
      "circularity                    0\n",
      "distance_circularity           0\n",
      "radius_ratio                   0\n",
      "pr.axis_aspect_ratio           0\n",
      "max.length_aspect_ratio        0\n",
      "scatter_ratio                  0\n",
      "elongatedness                  0\n",
      "pr.axis_rectangularity         0\n",
      "max.length_rectangularity      0\n",
      "scaled_variance                0\n",
      "scaled_variance.1              0\n",
      "scaled_radius_of_gyration      0\n",
      "scaled_radius_of_gyration.1    0\n",
      "skewness_about                 0\n",
      "skewness_about.1               0\n",
      "skewness_about.2               0\n",
      "hollows_ratio                  0\n",
      "class                          0\n",
      "dtype: int64\n"
     ]
    }
   ],
   "source": [
    "print(df.isna().sum())\n",
    "df = df.dropna()\n",
    "print(\"After dropping the na values \" )\n",
    "print(df.isna().sum())"
   ]
  },
  {
   "cell_type": "markdown",
   "metadata": {},
   "source": [
    "### 3. Standardize the data "
   ]
  },
  {
   "cell_type": "code",
   "execution_count": 98,
   "metadata": {},
   "outputs": [
    {
     "data": {
      "text/html": [
       "<div>\n",
       "<style scoped>\n",
       "    .dataframe tbody tr th:only-of-type {\n",
       "        vertical-align: middle;\n",
       "    }\n",
       "\n",
       "    .dataframe tbody tr th {\n",
       "        vertical-align: top;\n",
       "    }\n",
       "\n",
       "    .dataframe thead th {\n",
       "        text-align: right;\n",
       "    }\n",
       "</style>\n",
       "<table border=\"1\" class=\"dataframe\">\n",
       "  <thead>\n",
       "    <tr style=\"text-align: right;\">\n",
       "      <th></th>\n",
       "      <th>0</th>\n",
       "      <th>1</th>\n",
       "      <th>2</th>\n",
       "      <th>3</th>\n",
       "      <th>4</th>\n",
       "      <th>5</th>\n",
       "      <th>6</th>\n",
       "      <th>7</th>\n",
       "      <th>8</th>\n",
       "      <th>9</th>\n",
       "      <th>10</th>\n",
       "      <th>11</th>\n",
       "      <th>12</th>\n",
       "      <th>13</th>\n",
       "      <th>14</th>\n",
       "      <th>15</th>\n",
       "      <th>16</th>\n",
       "      <th>17</th>\n",
       "    </tr>\n",
       "  </thead>\n",
       "  <tbody>\n",
       "    <tr>\n",
       "      <th>0</th>\n",
       "      <td>0.163231</td>\n",
       "      <td>0.520408</td>\n",
       "      <td>0.060669</td>\n",
       "      <td>0.264970</td>\n",
       "      <td>1.283254</td>\n",
       "      <td>0.299721</td>\n",
       "      <td>-0.198517</td>\n",
       "      <td>0.129648</td>\n",
       "      <td>-0.217151</td>\n",
       "      <td>0.766312</td>\n",
       "      <td>-0.397397</td>\n",
       "      <td>-0.339014</td>\n",
       "      <td>0.301676</td>\n",
       "      <td>-0.321192</td>\n",
       "      <td>-0.071523</td>\n",
       "      <td>0.371287</td>\n",
       "      <td>-0.321809</td>\n",
       "      <td>0.171837</td>\n",
       "    </tr>\n",
       "    <tr>\n",
       "      <th>1</th>\n",
       "      <td>-0.322874</td>\n",
       "      <td>-0.619123</td>\n",
       "      <td>0.124067</td>\n",
       "      <td>-0.836393</td>\n",
       "      <td>-0.599253</td>\n",
       "      <td>0.085785</td>\n",
       "      <td>-0.591720</td>\n",
       "      <td>0.514333</td>\n",
       "      <td>-0.606014</td>\n",
       "      <td>-0.337462</td>\n",
       "      <td>-0.590034</td>\n",
       "      <td>-0.618754</td>\n",
       "      <td>-0.502972</td>\n",
       "      <td>-0.053505</td>\n",
       "      <td>0.538425</td>\n",
       "      <td>0.147109</td>\n",
       "      <td>0.003400</td>\n",
       "      <td>0.442318</td>\n",
       "    </tr>\n",
       "    <tr>\n",
       "      <th>2</th>\n",
       "      <td>1.256966</td>\n",
       "      <td>0.845988</td>\n",
       "      <td>1.518823</td>\n",
       "      <td>1.187734</td>\n",
       "      <td>0.530251</td>\n",
       "      <td>0.299721</td>\n",
       "      <td>1.162569</td>\n",
       "      <td>-1.152637</td>\n",
       "      <td>0.949438</td>\n",
       "      <td>0.697326</td>\n",
       "      <td>1.111591</td>\n",
       "      <td>1.122486</td>\n",
       "      <td>1.415804</td>\n",
       "      <td>0.080339</td>\n",
       "      <td>1.555006</td>\n",
       "      <td>-0.413338</td>\n",
       "      <td>-0.159204</td>\n",
       "      <td>0.036596</td>\n",
       "    </tr>\n",
       "    <tr>\n",
       "      <th>3</th>\n",
       "      <td>-0.079822</td>\n",
       "      <td>-0.619123</td>\n",
       "      <td>-0.002729</td>\n",
       "      <td>-0.300595</td>\n",
       "      <td>0.153750</td>\n",
       "      <td>0.085785</td>\n",
       "      <td>-0.742952</td>\n",
       "      <td>0.642562</td>\n",
       "      <td>-0.606014</td>\n",
       "      <td>-0.337462</td>\n",
       "      <td>-0.911095</td>\n",
       "      <td>-0.738643</td>\n",
       "      <td>-1.462359</td>\n",
       "      <td>-1.258099</td>\n",
       "      <td>-0.071523</td>\n",
       "      <td>-0.301249</td>\n",
       "      <td>1.629444</td>\n",
       "      <td>1.524243</td>\n",
       "    </tr>\n",
       "    <tr>\n",
       "      <th>4</th>\n",
       "      <td>-1.052030</td>\n",
       "      <td>-0.130753</td>\n",
       "      <td>-0.763506</td>\n",
       "      <td>1.068668</td>\n",
       "      <td>5.173770</td>\n",
       "      <td>9.285029</td>\n",
       "      <td>-0.591720</td>\n",
       "      <td>0.514333</td>\n",
       "      <td>-0.606014</td>\n",
       "      <td>-0.268476</td>\n",
       "      <td>1.689501</td>\n",
       "      <td>-0.647299</td>\n",
       "      <td>0.425468</td>\n",
       "      <td>7.307905</td>\n",
       "      <td>0.538425</td>\n",
       "      <td>-0.189159</td>\n",
       "      <td>-1.460039</td>\n",
       "      <td>-1.721531</td>\n",
       "    </tr>\n",
       "  </tbody>\n",
       "</table>\n",
       "</div>"
      ],
      "text/plain": [
       "         0         1         2         3         4         5         6   \\\n",
       "0  0.163231  0.520408  0.060669  0.264970  1.283254  0.299721 -0.198517   \n",
       "1 -0.322874 -0.619123  0.124067 -0.836393 -0.599253  0.085785 -0.591720   \n",
       "2  1.256966  0.845988  1.518823  1.187734  0.530251  0.299721  1.162569   \n",
       "3 -0.079822 -0.619123 -0.002729 -0.300595  0.153750  0.085785 -0.742952   \n",
       "4 -1.052030 -0.130753 -0.763506  1.068668  5.173770  9.285029 -0.591720   \n",
       "\n",
       "         7         8         9         10        11        12        13  \\\n",
       "0  0.129648 -0.217151  0.766312 -0.397397 -0.339014  0.301676 -0.321192   \n",
       "1  0.514333 -0.606014 -0.337462 -0.590034 -0.618754 -0.502972 -0.053505   \n",
       "2 -1.152637  0.949438  0.697326  1.111591  1.122486  1.415804  0.080339   \n",
       "3  0.642562 -0.606014 -0.337462 -0.911095 -0.738643 -1.462359 -1.258099   \n",
       "4  0.514333 -0.606014 -0.268476  1.689501 -0.647299  0.425468  7.307905   \n",
       "\n",
       "         14        15        16        17  \n",
       "0 -0.071523  0.371287 -0.321809  0.171837  \n",
       "1  0.538425  0.147109  0.003400  0.442318  \n",
       "2  1.555006 -0.413338 -0.159204  0.036596  \n",
       "3 -0.071523 -0.301249  1.629444  1.524243  \n",
       "4  0.538425 -0.189159 -1.460039 -1.721531  "
      ]
     },
     "execution_count": 98,
     "metadata": {},
     "output_type": "execute_result"
    }
   ],
   "source": [
    "data = df.drop(\"class\", axis =1)\n",
    "from sklearn.preprocessing import StandardScaler\n",
    "scaler = StandardScaler()\n",
    "scaler.fit(data)\n",
    "data = scaler.transform(data)\n",
    "data = pd.DataFrame(data)\n",
    "data.head()"
   ]
  },
  {
   "cell_type": "markdown",
   "metadata": {},
   "source": [
    "Since the dimensions of the data are not really known to us, it would be wise to standardize the data using z scores before we go for any clustering methods.\n",
    "You can use zscore function to do this"
   ]
  },
  {
   "cell_type": "code",
   "execution_count": 99,
   "metadata": {},
   "outputs": [
    {
     "name": "stdout",
     "output_type": "stream",
     "text": [
      "['compactness', 'circularity', 'distance_circularity', 'radius_ratio', 'pr.axis_aspect_ratio', 'max.length_aspect_ratio', 'scatter_ratio', 'elongatedness', 'pr.axis_rectangularity', 'max.length_rectangularity', 'scaled_variance', 'scaled_variance.1', 'scaled_radius_of_gyration', 'scaled_radius_of_gyration.1', 'skewness_about', 'skewness_about.1', 'skewness_about.2', 'hollows_ratio', 'class']\n"
     ]
    },
    {
     "data": {
      "text/plain": [
       "['compactness',\n",
       " 'circularity',\n",
       " 'distance_circularity',\n",
       " 'radius_ratio',\n",
       " 'pr.axis_aspect_ratio',\n",
       " 'max.length_aspect_ratio',\n",
       " 'scatter_ratio',\n",
       " 'elongatedness',\n",
       " 'pr.axis_rectangularity',\n",
       " 'max.length_rectangularity',\n",
       " 'scaled_variance',\n",
       " 'scaled_variance.1',\n",
       " 'scaled_radius_of_gyration',\n",
       " 'scaled_radius_of_gyration.1',\n",
       " 'skewness_about',\n",
       " 'skewness_about.1',\n",
       " 'skewness_about.2',\n",
       " 'hollows_ratio']"
      ]
     },
     "execution_count": 99,
     "metadata": {},
     "output_type": "execute_result"
    }
   ],
   "source": [
    "features = list(df.columns.values) \n",
    "print(features)\n",
    "feature = features.remove('class')\n",
    "feature"
   ]
  },
  {
   "cell_type": "code",
   "execution_count": 100,
   "metadata": {},
   "outputs": [
    {
     "data": {
      "text/html": [
       "<div>\n",
       "<style scoped>\n",
       "    .dataframe tbody tr th:only-of-type {\n",
       "        vertical-align: middle;\n",
       "    }\n",
       "\n",
       "    .dataframe tbody tr th {\n",
       "        vertical-align: top;\n",
       "    }\n",
       "\n",
       "    .dataframe thead th {\n",
       "        text-align: right;\n",
       "    }\n",
       "</style>\n",
       "<table border=\"1\" class=\"dataframe\">\n",
       "  <thead>\n",
       "    <tr style=\"text-align: right;\">\n",
       "      <th></th>\n",
       "      <th>compactness</th>\n",
       "      <th>circularity</th>\n",
       "      <th>distance_circularity</th>\n",
       "      <th>radius_ratio</th>\n",
       "      <th>pr.axis_aspect_ratio</th>\n",
       "      <th>max.length_aspect_ratio</th>\n",
       "      <th>scatter_ratio</th>\n",
       "      <th>elongatedness</th>\n",
       "      <th>pr.axis_rectangularity</th>\n",
       "      <th>max.length_rectangularity</th>\n",
       "      <th>scaled_variance</th>\n",
       "      <th>scaled_variance.1</th>\n",
       "      <th>scaled_radius_of_gyration</th>\n",
       "      <th>scaled_radius_of_gyration.1</th>\n",
       "      <th>skewness_about</th>\n",
       "      <th>skewness_about.1</th>\n",
       "      <th>skewness_about.2</th>\n",
       "      <th>hollows_ratio</th>\n",
       "    </tr>\n",
       "  </thead>\n",
       "  <tbody>\n",
       "    <tr>\n",
       "      <th>0</th>\n",
       "      <td>0.163231</td>\n",
       "      <td>0.520408</td>\n",
       "      <td>0.060669</td>\n",
       "      <td>0.264970</td>\n",
       "      <td>1.283254</td>\n",
       "      <td>0.299721</td>\n",
       "      <td>-0.198517</td>\n",
       "      <td>0.129648</td>\n",
       "      <td>-0.217151</td>\n",
       "      <td>0.766312</td>\n",
       "      <td>-0.397397</td>\n",
       "      <td>-0.339014</td>\n",
       "      <td>0.301676</td>\n",
       "      <td>-0.321192</td>\n",
       "      <td>-0.071523</td>\n",
       "      <td>0.371287</td>\n",
       "      <td>-0.321809</td>\n",
       "      <td>0.171837</td>\n",
       "    </tr>\n",
       "    <tr>\n",
       "      <th>1</th>\n",
       "      <td>-0.322874</td>\n",
       "      <td>-0.619123</td>\n",
       "      <td>0.124067</td>\n",
       "      <td>-0.836393</td>\n",
       "      <td>-0.599253</td>\n",
       "      <td>0.085785</td>\n",
       "      <td>-0.591720</td>\n",
       "      <td>0.514333</td>\n",
       "      <td>-0.606014</td>\n",
       "      <td>-0.337462</td>\n",
       "      <td>-0.590034</td>\n",
       "      <td>-0.618754</td>\n",
       "      <td>-0.502972</td>\n",
       "      <td>-0.053505</td>\n",
       "      <td>0.538425</td>\n",
       "      <td>0.147109</td>\n",
       "      <td>0.003400</td>\n",
       "      <td>0.442318</td>\n",
       "    </tr>\n",
       "    <tr>\n",
       "      <th>2</th>\n",
       "      <td>1.256966</td>\n",
       "      <td>0.845988</td>\n",
       "      <td>1.518823</td>\n",
       "      <td>1.187734</td>\n",
       "      <td>0.530251</td>\n",
       "      <td>0.299721</td>\n",
       "      <td>1.162569</td>\n",
       "      <td>-1.152637</td>\n",
       "      <td>0.949438</td>\n",
       "      <td>0.697326</td>\n",
       "      <td>1.111591</td>\n",
       "      <td>1.122486</td>\n",
       "      <td>1.415804</td>\n",
       "      <td>0.080339</td>\n",
       "      <td>1.555006</td>\n",
       "      <td>-0.413338</td>\n",
       "      <td>-0.159204</td>\n",
       "      <td>0.036596</td>\n",
       "    </tr>\n",
       "    <tr>\n",
       "      <th>3</th>\n",
       "      <td>-0.079822</td>\n",
       "      <td>-0.619123</td>\n",
       "      <td>-0.002729</td>\n",
       "      <td>-0.300595</td>\n",
       "      <td>0.153750</td>\n",
       "      <td>0.085785</td>\n",
       "      <td>-0.742952</td>\n",
       "      <td>0.642562</td>\n",
       "      <td>-0.606014</td>\n",
       "      <td>-0.337462</td>\n",
       "      <td>-0.911095</td>\n",
       "      <td>-0.738643</td>\n",
       "      <td>-1.462359</td>\n",
       "      <td>-1.258099</td>\n",
       "      <td>-0.071523</td>\n",
       "      <td>-0.301249</td>\n",
       "      <td>1.629444</td>\n",
       "      <td>1.524243</td>\n",
       "    </tr>\n",
       "    <tr>\n",
       "      <th>4</th>\n",
       "      <td>-1.052030</td>\n",
       "      <td>-0.130753</td>\n",
       "      <td>-0.763506</td>\n",
       "      <td>1.068668</td>\n",
       "      <td>5.173770</td>\n",
       "      <td>9.285029</td>\n",
       "      <td>-0.591720</td>\n",
       "      <td>0.514333</td>\n",
       "      <td>-0.606014</td>\n",
       "      <td>-0.268476</td>\n",
       "      <td>1.689501</td>\n",
       "      <td>-0.647299</td>\n",
       "      <td>0.425468</td>\n",
       "      <td>7.307905</td>\n",
       "      <td>0.538425</td>\n",
       "      <td>-0.189159</td>\n",
       "      <td>-1.460039</td>\n",
       "      <td>-1.721531</td>\n",
       "    </tr>\n",
       "  </tbody>\n",
       "</table>\n",
       "</div>"
      ],
      "text/plain": [
       "   compactness  circularity  distance_circularity  radius_ratio  \\\n",
       "0     0.163231     0.520408              0.060669      0.264970   \n",
       "1    -0.322874    -0.619123              0.124067     -0.836393   \n",
       "2     1.256966     0.845988              1.518823      1.187734   \n",
       "3    -0.079822    -0.619123             -0.002729     -0.300595   \n",
       "4    -1.052030    -0.130753             -0.763506      1.068668   \n",
       "\n",
       "   pr.axis_aspect_ratio  max.length_aspect_ratio  scatter_ratio  \\\n",
       "0              1.283254                 0.299721      -0.198517   \n",
       "1             -0.599253                 0.085785      -0.591720   \n",
       "2              0.530251                 0.299721       1.162569   \n",
       "3              0.153750                 0.085785      -0.742952   \n",
       "4              5.173770                 9.285029      -0.591720   \n",
       "\n",
       "   elongatedness  pr.axis_rectangularity  max.length_rectangularity  \\\n",
       "0       0.129648               -0.217151                   0.766312   \n",
       "1       0.514333               -0.606014                  -0.337462   \n",
       "2      -1.152637                0.949438                   0.697326   \n",
       "3       0.642562               -0.606014                  -0.337462   \n",
       "4       0.514333               -0.606014                  -0.268476   \n",
       "\n",
       "   scaled_variance  scaled_variance.1  scaled_radius_of_gyration  \\\n",
       "0        -0.397397          -0.339014                   0.301676   \n",
       "1        -0.590034          -0.618754                  -0.502972   \n",
       "2         1.111591           1.122486                   1.415804   \n",
       "3        -0.911095          -0.738643                  -1.462359   \n",
       "4         1.689501          -0.647299                   0.425468   \n",
       "\n",
       "   scaled_radius_of_gyration.1  skewness_about  skewness_about.1  \\\n",
       "0                    -0.321192       -0.071523          0.371287   \n",
       "1                    -0.053505        0.538425          0.147109   \n",
       "2                     0.080339        1.555006         -0.413338   \n",
       "3                    -1.258099       -0.071523         -0.301249   \n",
       "4                     7.307905        0.538425         -0.189159   \n",
       "\n",
       "   skewness_about.2  hollows_ratio  \n",
       "0         -0.321809       0.171837  \n",
       "1          0.003400       0.442318  \n",
       "2         -0.159204       0.036596  \n",
       "3          1.629444       1.524243  \n",
       "4         -1.460039      -1.721531  "
      ]
     },
     "execution_count": 100,
     "metadata": {},
     "output_type": "execute_result"
    }
   ],
   "source": [
    "data.columns = features\n",
    "data.head()"
   ]
  },
  {
   "cell_type": "markdown",
   "metadata": {},
   "source": [
    "### K - Means Clustering"
   ]
  },
  {
   "cell_type": "markdown",
   "metadata": {},
   "source": [
    "### 4. Assign a dummy array called distortion"
   ]
  },
  {
   "cell_type": "code",
   "execution_count": 94,
   "metadata": {},
   "outputs": [],
   "source": [
    "distortion = []"
   ]
  },
  {
   "cell_type": "markdown",
   "metadata": {},
   "source": [
    "You can later use this array to plot the elbow plot"
   ]
  },
  {
   "cell_type": "code",
   "execution_count": null,
   "metadata": {},
   "outputs": [],
   "source": []
  },
  {
   "cell_type": "markdown",
   "metadata": {},
   "source": [
    "### 5. Calculating distortion - C distance"
   ]
  },
  {
   "cell_type": "code",
   "execution_count": null,
   "metadata": {},
   "outputs": [],
   "source": []
  },
  {
   "cell_type": "markdown",
   "metadata": {},
   "source": [
    "Iterating values of k from 1 to 10 fit K means model\n",
    "Using c distance - Get the measure for Sum of squares error."
   ]
  },
  {
   "cell_type": "code",
   "execution_count": 95,
   "metadata": {},
   "outputs": [],
   "source": [
    "#Initial a list to track SSE for KMeans with different K\n",
    "from sklearn.cluster import KMeans\n",
    "sse_df = pd.DataFrame(columns=['K','SSE'])\n",
    "\n",
    "for i in range(2,15):\n",
    "    \n",
    "    #Initialize KMeans\n",
    "    km = KMeans(n_clusters=i, n_init=10, max_iter=300)\n",
    "    \n",
    "    #Fit on the data\n",
    "    km.fit(data)\n",
    "    \n",
    "    #Add cluster information for each record in dataframe\n",
    "    data['k_' + str(i)] = km.predict(data)\n",
    "    \n",
    "    #Track K and SSE information in sse_df\n",
    "    sse_df.loc[sse_df.shape[0]] = [i, km.inertia_]\n",
    "    distortion.append(km.inertia_)"
   ]
  },
  {
   "cell_type": "code",
   "execution_count": null,
   "metadata": {},
   "outputs": [],
   "source": []
  },
  {
   "cell_type": "markdown",
   "metadata": {},
   "source": [
    "### 6. Plotting Elbow/ Scree Plot"
   ]
  },
  {
   "cell_type": "code",
   "execution_count": 96,
   "metadata": {},
   "outputs": [
    {
     "data": {
      "text/plain": [
       "[<matplotlib.lines.Line2D at 0xe884c6f908>]"
      ]
     },
     "execution_count": 96,
     "metadata": {},
     "output_type": "execute_result"
    },
    {
     "data": {
      "image/png": "[encoded data removed]",
      "text/plain": [
       "<Figure size 432x288 with 1 Axes>"
      ]
     },
     "metadata": {},
     "output_type": "display_data"
    }
   ],
   "source": [
    "#import seaborn as sns\n",
    "#sns.lineplot(x='K', y='SSE', data=sse_df)\n",
    "\n",
    "import matplotlib.pyplot as plt\n",
    "%matplotlib inline\n",
    "plt.plot(sse_df['K'],pd.DataFrame(distortion),linestyle='-')"
   ]
  },
  {
   "cell_type": "markdown",
   "metadata": {},
   "source": [
    "Use Matplotlib to plot the scree plot - Note: Scree plot plots distortion vs the no of clusters"
   ]
  },
  {
   "cell_type": "code",
   "execution_count": null,
   "metadata": {},
   "outputs": [],
   "source": []
  },
  {
   "cell_type": "markdown",
   "metadata": {},
   "source": [
    "### Find out the optimal value of K"
   ]
  },
  {
   "cell_type": "code",
   "execution_count": null,
   "metadata": {},
   "outputs": [],
   "source": [
    "## As the elbow is getting created at 4 we will go ahead and consider that as an optimal value"
   ]
  },
  {
   "cell_type": "code",
   "execution_count": 101,
   "metadata": {},
   "outputs": [
    {
     "name": "stdout",
     "output_type": "stream",
     "text": [
      "[[-1.99237839e-01 -6.14601238e-01 -3.11794725e-01 -2.06029683e-02\n",
      "   1.74230689e-01 -1.77920849e-01 -4.54981184e-01  3.18874058e-01\n",
      "  -4.84494186e-01 -5.77235931e-01 -4.21699830e-01 -4.56999534e-01\n",
      "  -6.43849407e-01 -6.90192165e-01 -5.59921798e-02  5.29224371e-02\n",
      "   9.12403838e-01  7.78541463e-01]\n",
      " [ 1.15442786e+00  1.18428647e+00  1.21198691e+00  9.73321772e-01\n",
      "   9.49213388e-02  2.18659142e-01  1.29796844e+00 -1.21424667e+00\n",
      "   1.30184458e+00  1.09830595e+00  1.20590258e+00  1.30898668e+00\n",
      "   1.09121291e+00 -1.07878646e-01  1.68326262e-01  2.67954844e-01\n",
      "   4.67043879e-03  1.90327006e-01]\n",
      " [-8.89995552e-01 -4.85647736e-01 -8.36377014e-01 -1.02229190e+00\n",
      "  -4.94910025e-01 -2.84709502e-01 -7.54656228e-01  8.24833086e-01\n",
      "  -7.25205511e-01 -4.49002525e-01 -7.69508547e-01 -7.61609875e-01\n",
      "  -3.66373499e-01  7.15199887e-01 -9.48929498e-02 -3.14132413e-01\n",
      "  -9.89670439e-01 -1.03185613e+00]\n",
      " [-7.33024343e-01  7.27349604e-02 -2.72170954e-01  2.94768327e+00\n",
      "   6.83665190e+00  8.69670551e+00 -5.35008001e-01  4.66247771e-01\n",
      "  -5.57405972e-01  2.83410527e-01  1.69752769e+00 -5.88068272e-01\n",
      "   2.12700856e-01  4.96563826e+00 -2.74839440e-01 -2.31192779e-01\n",
      "  -7.07994144e-01 -4.53650721e-01]]\n"
     ]
    }
   ],
   "source": [
    "from sklearn.cluster import KMeans\n",
    "km = KMeans(n_clusters=4)\n",
    "km.fit(data)\n",
    "data['k_4'] = km.predict(data)\n",
    "print(km.cluster_centers_)"
   ]
  },
  {
   "cell_type": "markdown",
   "metadata": {},
   "source": [
    "### Using optimal value of K - Cluster the data. \n",
    "Note: Since the data has more than 2 dimension we cannot visualize the data. As an alternative, we can observe the centroids and note how they are distributed across different dimensions"
   ]
  },
  {
   "cell_type": "code",
   "execution_count": null,
   "metadata": {},
   "outputs": [],
   "source": []
  },
  {
   "cell_type": "markdown",
   "metadata": {},
   "source": [
    "You can use kmeans.cluster_centers_ function to pull the centroid information from the instance"
   ]
  },
  {
   "cell_type": "code",
   "execution_count": null,
   "metadata": {},
   "outputs": [],
   "source": []
  },
  {
   "cell_type": "markdown",
   "metadata": {},
   "source": [
    "### 7. Store the centroids in a dataframe with column names from the original dataset given "
   ]
  },
  {
   "cell_type": "code",
   "execution_count": 111,
   "metadata": {},
   "outputs": [
    {
     "data": {
      "text/html": [
       "<div>\n",
       "<style scoped>\n",
       "    .dataframe tbody tr th:only-of-type {\n",
       "        vertical-align: middle;\n",
       "    }\n",
       "\n",
       "    .dataframe tbody tr th {\n",
       "        vertical-align: top;\n",
       "    }\n",
       "\n",
       "    .dataframe thead th {\n",
       "        text-align: right;\n",
       "    }\n",
       "</style>\n",
       "<table border=\"1\" class=\"dataframe\">\n",
       "  <thead>\n",
       "    <tr style=\"text-align: right;\">\n",
       "      <th></th>\n",
       "      <th>compactness</th>\n",
       "      <th>circularity</th>\n",
       "      <th>distance_circularity</th>\n",
       "      <th>radius_ratio</th>\n",
       "      <th>pr.axis_aspect_ratio</th>\n",
       "      <th>max.length_aspect_ratio</th>\n",
       "      <th>scatter_ratio</th>\n",
       "      <th>elongatedness</th>\n",
       "      <th>pr.axis_rectangularity</th>\n",
       "      <th>max.length_rectangularity</th>\n",
       "      <th>scaled_variance</th>\n",
       "      <th>scaled_variance.1</th>\n",
       "      <th>scaled_radius_of_gyration</th>\n",
       "      <th>scaled_radius_of_gyration.1</th>\n",
       "      <th>skewness_about</th>\n",
       "      <th>skewness_about.1</th>\n",
       "      <th>skewness_about.2</th>\n",
       "      <th>hollows_ratio</th>\n",
       "    </tr>\n",
       "  </thead>\n",
       "  <tbody>\n",
       "    <tr>\n",
       "      <th>0</th>\n",
       "      <td>-0.199238</td>\n",
       "      <td>-0.614601</td>\n",
       "      <td>-0.311795</td>\n",
       "      <td>-0.020603</td>\n",
       "      <td>0.174231</td>\n",
       "      <td>-0.177921</td>\n",
       "      <td>-0.454981</td>\n",
       "      <td>0.318874</td>\n",
       "      <td>-0.484494</td>\n",
       "      <td>-0.577236</td>\n",
       "      <td>-0.421700</td>\n",
       "      <td>-0.457000</td>\n",
       "      <td>-0.643849</td>\n",
       "      <td>-0.690192</td>\n",
       "      <td>-0.055992</td>\n",
       "      <td>0.052922</td>\n",
       "      <td>0.912404</td>\n",
       "      <td>0.778541</td>\n",
       "    </tr>\n",
       "    <tr>\n",
       "      <th>1</th>\n",
       "      <td>1.154428</td>\n",
       "      <td>1.184286</td>\n",
       "      <td>1.211987</td>\n",
       "      <td>0.973322</td>\n",
       "      <td>0.094921</td>\n",
       "      <td>0.218659</td>\n",
       "      <td>1.297968</td>\n",
       "      <td>-1.214247</td>\n",
       "      <td>1.301845</td>\n",
       "      <td>1.098306</td>\n",
       "      <td>1.205903</td>\n",
       "      <td>1.308987</td>\n",
       "      <td>1.091213</td>\n",
       "      <td>-0.107879</td>\n",
       "      <td>0.168326</td>\n",
       "      <td>0.267955</td>\n",
       "      <td>0.004670</td>\n",
       "      <td>0.190327</td>\n",
       "    </tr>\n",
       "    <tr>\n",
       "      <th>2</th>\n",
       "      <td>-0.889996</td>\n",
       "      <td>-0.485648</td>\n",
       "      <td>-0.836377</td>\n",
       "      <td>-1.022292</td>\n",
       "      <td>-0.494910</td>\n",
       "      <td>-0.284710</td>\n",
       "      <td>-0.754656</td>\n",
       "      <td>0.824833</td>\n",
       "      <td>-0.725206</td>\n",
       "      <td>-0.449003</td>\n",
       "      <td>-0.769509</td>\n",
       "      <td>-0.761610</td>\n",
       "      <td>-0.366373</td>\n",
       "      <td>0.715200</td>\n",
       "      <td>-0.094893</td>\n",
       "      <td>-0.314132</td>\n",
       "      <td>-0.989670</td>\n",
       "      <td>-1.031856</td>\n",
       "    </tr>\n",
       "    <tr>\n",
       "      <th>3</th>\n",
       "      <td>-0.733024</td>\n",
       "      <td>0.072735</td>\n",
       "      <td>-0.272171</td>\n",
       "      <td>2.947683</td>\n",
       "      <td>6.836652</td>\n",
       "      <td>8.696706</td>\n",
       "      <td>-0.535008</td>\n",
       "      <td>0.466248</td>\n",
       "      <td>-0.557406</td>\n",
       "      <td>0.283411</td>\n",
       "      <td>1.697528</td>\n",
       "      <td>-0.588068</td>\n",
       "      <td>0.212701</td>\n",
       "      <td>4.965638</td>\n",
       "      <td>-0.274839</td>\n",
       "      <td>-0.231193</td>\n",
       "      <td>-0.707994</td>\n",
       "      <td>-0.453651</td>\n",
       "    </tr>\n",
       "  </tbody>\n",
       "</table>\n",
       "</div>"
      ],
      "text/plain": [
       "   compactness  circularity  distance_circularity  radius_ratio  \\\n",
       "0    -0.199238    -0.614601             -0.311795     -0.020603   \n",
       "1     1.154428     1.184286              1.211987      0.973322   \n",
       "2    -0.889996    -0.485648             -0.836377     -1.022292   \n",
       "3    -0.733024     0.072735             -0.272171      2.947683   \n",
       "\n",
       "   pr.axis_aspect_ratio  max.length_aspect_ratio  scatter_ratio  \\\n",
       "0              0.174231                -0.177921      -0.454981   \n",
       "1              0.094921                 0.218659       1.297968   \n",
       "2             -0.494910                -0.284710      -0.754656   \n",
       "3              6.836652                 8.696706      -0.535008   \n",
       "\n",
       "   elongatedness  pr.axis_rectangularity  max.length_rectangularity  \\\n",
       "0       0.318874               -0.484494                  -0.577236   \n",
       "1      -1.214247                1.301845                   1.098306   \n",
       "2       0.824833               -0.725206                  -0.449003   \n",
       "3       0.466248               -0.557406                   0.283411   \n",
       "\n",
       "   scaled_variance  scaled_variance.1  scaled_radius_of_gyration  \\\n",
       "0        -0.421700          -0.457000                  -0.643849   \n",
       "1         1.205903           1.308987                   1.091213   \n",
       "2        -0.769509          -0.761610                  -0.366373   \n",
       "3         1.697528          -0.588068                   0.212701   \n",
       "\n",
       "   scaled_radius_of_gyration.1  skewness_about  skewness_about.1  \\\n",
       "0                    -0.690192       -0.055992          0.052922   \n",
       "1                    -0.107879        0.168326          0.267955   \n",
       "2                     0.715200       -0.094893         -0.314132   \n",
       "3                     4.965638       -0.274839         -0.231193   \n",
       "\n",
       "   skewness_about.2  hollows_ratio  \n",
       "0          0.912404       0.778541  \n",
       "1          0.004670       0.190327  \n",
       "2         -0.989670      -1.031856  \n",
       "3         -0.707994      -0.453651  "
      ]
     },
     "execution_count": 111,
     "metadata": {},
     "output_type": "execute_result"
    }
   ],
   "source": [
    "centroid_df=pd.DataFrame(km.cluster_centers_)\n",
    "centroid_df.columns = features\n",
    "centroid_df.head()"
   ]
  },
  {
   "cell_type": "markdown",
   "metadata": {},
   "source": [
    "Hint: Use pd.Dataframe function "
   ]
  },
  {
   "cell_type": "code",
   "execution_count": null,
   "metadata": {},
   "outputs": [],
   "source": []
  },
  {
   "cell_type": "code",
   "execution_count": null,
   "metadata": {},
   "outputs": [],
   "source": []
  },
  {
   "cell_type": "markdown",
   "metadata": {},
   "source": [
    "### Use kmeans.labels_ function to print out the labels of the classes"
   ]
  },
  {
   "cell_type": "code",
   "execution_count": 113,
   "metadata": {},
   "outputs": [
    {
     "data": {
      "text/plain": [
       "array([0, 0, 1, 0, 3, 0, 0, 0, 0, 0, 0, 0, 0, 1, 2, 0, 1, 2, 2, 0, 0, 1,\n",
       "       0, 2, 1, 1, 2, 0, 0, 0, 1, 0, 2, 3, 1, 2, 1, 2, 2, 0, 1, 2, 2, 2,\n",
       "       2, 0, 2, 0, 1, 0, 1, 0, 0, 2, 1, 2, 1, 2, 2, 2, 0, 2, 1, 0, 1, 1,\n",
       "       0, 2, 0, 1, 0, 2, 2, 1, 0, 2, 0, 1, 0, 2, 0, 2, 1, 0, 1, 2, 2, 1,\n",
       "       2, 2, 1, 2, 3, 0, 0, 2, 1, 1, 2, 2, 1, 0, 0, 2, 2, 2, 0, 1, 1, 0,\n",
       "       2, 2, 0, 2, 2, 2, 2, 2, 0, 1, 1, 0, 0, 2, 1, 3, 2, 0, 2, 0, 0, 1,\n",
       "       2, 0, 1, 0, 0, 0, 0, 1, 0, 0, 1, 0, 1, 0, 2, 0, 2, 1, 0, 2, 1, 1,\n",
       "       0, 1, 2, 2, 1, 1, 0, 1, 2, 0, 0, 0, 2, 1, 2, 0, 2, 1, 0, 0, 0, 1,\n",
       "       0, 1, 0, 1, 0, 2, 1, 2, 2, 2, 2, 0, 1, 1, 0, 0, 0, 2, 1, 0, 2, 0,\n",
       "       1, 2, 2, 1, 2, 0, 1, 2, 2, 2, 0, 1, 0, 1, 2, 2, 2, 2, 1, 0, 2, 0,\n",
       "       1, 2, 0, 0, 2, 1, 2, 2, 0, 0, 1, 2, 1, 2, 0, 2, 1, 0, 0, 1, 1, 2,\n",
       "       0, 0, 0, 1, 2, 0, 0, 2, 2, 0, 0, 1, 0, 2, 2, 1, 0, 0, 2, 2, 1, 2,\n",
       "       2, 1, 2, 0, 3, 2, 0, 1, 0, 1, 2, 0, 0, 1, 0, 0, 0, 2, 2, 1, 1, 1,\n",
       "       1, 2, 2, 1, 2, 2, 2, 0, 2, 1, 1, 2, 1, 0, 2, 1, 2, 0, 0, 1, 1, 2,\n",
       "       1, 1, 2, 1, 0, 0, 0, 2, 2, 1, 1, 1, 0, 0, 0, 1, 2, 0, 2, 1, 0, 0,\n",
       "       1, 0, 1, 1, 1, 0, 2, 2, 1, 2, 2, 2, 2, 0, 0, 0, 2, 1, 1, 2, 2, 1,\n",
       "       2, 1, 2, 1, 0, 2, 0, 2, 3, 1, 2, 0, 0, 2, 1, 0, 0, 0, 0, 1, 0, 1,\n",
       "       0, 1, 0, 2, 2, 0, 0, 0, 2, 2, 0, 2, 1, 0, 0, 2, 2, 1, 0, 2, 0, 0,\n",
       "       1, 0, 1, 0, 1, 1, 2, 2, 1, 0, 2, 2, 0, 1, 1, 2, 0, 1, 1, 2, 1, 1,\n",
       "       1, 0, 0, 0, 0, 0, 1, 2, 2, 0, 1, 0, 0, 1, 0, 2, 1, 2, 2, 1, 0, 2,\n",
       "       1, 1, 1, 2, 1, 1, 2, 0, 2, 1, 1, 0, 0, 2, 2, 1, 0, 2, 1, 1, 0, 2,\n",
       "       1, 1, 0, 2, 2, 1, 1, 1, 2, 2, 1, 1, 1, 0, 0, 1, 2, 0, 1, 0, 2, 2,\n",
       "       0, 1, 2, 0, 0, 2, 3, 1, 0, 1, 1, 0, 2, 0, 1, 1, 2, 2, 0, 1, 0, 1,\n",
       "       1, 0, 0, 0, 0, 2, 2, 2, 0, 0, 1, 2, 2, 0, 2, 1, 0, 1, 2, 2, 1, 1,\n",
       "       0, 1, 0, 0, 0, 1, 2, 2, 0, 1, 0, 0, 2, 1, 1, 1, 1, 0, 2, 2, 2, 1,\n",
       "       1, 1, 0, 1, 2, 0, 1, 2, 2, 2, 0, 2, 1, 0, 0, 0, 0, 0, 0, 1, 0, 0,\n",
       "       1, 0, 0, 0, 2, 1, 2, 2, 0, 2, 0, 0, 2, 2, 1, 1, 2, 0, 1, 0, 1, 2,\n",
       "       2, 1, 0, 2, 1, 2, 1, 2, 2, 0, 2, 0, 1, 1, 2, 1, 0, 0, 2, 0, 2, 1,\n",
       "       0, 1, 2, 0, 0, 0, 2, 2, 2, 0, 1, 0, 1, 2, 0, 0, 2, 0, 1, 0, 2, 1,\n",
       "       0, 1, 0, 0, 1, 2, 1, 2, 0, 2, 0, 2, 1, 0, 2, 0, 1, 2, 1, 0, 2, 1,\n",
       "       2, 0, 2, 2, 0, 2, 2, 1, 1, 0, 0, 1, 1, 3, 0, 2, 0, 1, 1, 1, 1, 0,\n",
       "       1, 0, 0, 1, 1, 0, 1, 0, 1, 0, 2, 1, 0, 2, 1, 1, 1, 0, 1, 2, 2, 1,\n",
       "       1, 1, 0, 1, 0, 0, 1, 0, 2, 0, 2, 0, 1, 0, 2, 0, 0, 0, 2, 1, 2, 2,\n",
       "       2, 1, 1, 2, 1, 1, 2, 0, 0, 1, 0, 2, 1, 1, 2, 0, 0, 1, 1, 1, 2, 1,\n",
       "       0, 1, 1, 2, 2, 1, 2, 1, 0, 2, 0, 1, 1, 0, 2, 0, 1, 1, 0, 0, 2, 0,\n",
       "       0, 1, 2, 2, 1, 2, 2, 1, 2, 0, 2, 2, 2, 2, 1, 1, 0, 2, 1, 0, 1, 1,\n",
       "       2, 0, 1, 2, 2, 0, 0, 1, 2, 2, 1, 2, 0, 0, 0, 0, 0, 0, 1, 0, 2])"
      ]
     },
     "execution_count": 113,
     "metadata": {},
     "output_type": "execute_result"
    }
   ],
   "source": [
    "km.labels_"
   ]
  },
  {
   "cell_type": "code",
   "execution_count": null,
   "metadata": {},
   "outputs": [],
   "source": []
  },
  {
   "cell_type": "markdown",
   "metadata": {},
   "source": [
    "## Hierarchical Clustering "
   ]
  },
  {
   "cell_type": "markdown",
   "metadata": {},
   "source": [
    "### 8. Variable creation"
   ]
  },
  {
   "cell_type": "markdown",
   "metadata": {},
   "source": [
    "For Hierarchical clustering, we will create datasets using multivariate normal distribution to visually observe how the clusters are formed at the end"
   ]
  },
  {
   "cell_type": "code",
   "execution_count": 140,
   "metadata": {},
   "outputs": [],
   "source": [
    "import numpy as np \n",
    "a = np.random.multivariate_normal([10, 0], [[3, 1], [1, 4]], size=[100,])\n",
    "b = np.random.multivariate_normal([0, 20], [[3, 1], [1, 4]], size=[50,])\n",
    "c = np.random.multivariate_normal([10, 20], [[3, 1], [1, 4]], size=[100,])"
   ]
  },
  {
   "cell_type": "raw",
   "metadata": {},
   "source": [
    "a = np.random.multivariate_normal([10, 0], [[3, 1], [1, 4]], size=[100,])\n",
    "b = np.random.multivariate_normal([0, 20], [[3, 1], [1, 4]], size=[50,])\n",
    "c = np.random.multivariate_normal([10, 20], [[3, 1], [1, 4]], size=[100,])"
   ]
  },
  {
   "cell_type": "code",
   "execution_count": 121,
   "metadata": {},
   "outputs": [
    {
     "name": "stdout",
     "output_type": "stream",
     "text": [
      "             0          1\n",
      "0    10.568754   1.009986\n",
      "1     9.381139   2.462211\n",
      "2    11.876920  -1.381940\n",
      "3     7.363901   0.655679\n",
      "4    10.071013  -1.326580\n",
      "5    11.241905   0.601791\n",
      "6    10.698405  -1.844732\n",
      "7    10.499130   0.808073\n",
      "8    11.437017   0.607759\n",
      "9     9.441683   2.028276\n",
      "10    8.250995  -2.489888\n",
      "11    9.557439  -1.771297\n",
      "12   13.943869   0.442366\n",
      "13   13.141228   2.817170\n",
      "14    9.047640   0.445082\n",
      "15    8.908055  -0.867799\n",
      "16   14.606236   0.712613\n",
      "17    7.286748   2.027538\n",
      "18    9.486778  -4.193613\n",
      "19    5.528532   0.053837\n",
      "20    7.339837  -3.554127\n",
      "21   11.140649   0.942483\n",
      "22    6.392442  -3.190011\n",
      "23   10.208680  -2.563730\n",
      "24    9.198079  -0.685612\n",
      "25    9.270324   0.782687\n",
      "26   10.890440   0.163823\n",
      "27   10.561681   0.159279\n",
      "28    7.625540   0.399998\n",
      "29    9.761697  -0.787307\n",
      "..         ...        ...\n",
      "220  10.250343  22.816868\n",
      "221  12.655470  25.016956\n",
      "222  10.346414  22.212840\n",
      "223   8.060465  20.329821\n",
      "224  11.597947  20.135228\n",
      "225  10.472566  15.345550\n",
      "226   9.867760  20.831774\n",
      "227  10.723557  20.630272\n",
      "228  10.776463  19.780640\n",
      "229  10.529102  19.429041\n",
      "230  11.615995  20.659768\n",
      "231   7.438889  15.464941\n",
      "232  10.901068  19.417608\n",
      "233  11.319292  19.423079\n",
      "234  12.575499  22.376078\n",
      "235   9.602088  19.703806\n",
      "236  10.837218  16.445707\n",
      "237  12.454289  22.037383\n",
      "238  10.061521  20.770138\n",
      "239   8.800635  20.750270\n",
      "240   9.695070  21.027794\n",
      "241   7.676039  20.101610\n",
      "242   7.111218  17.114162\n",
      "243  10.255992  18.268477\n",
      "244  10.222339  19.575607\n",
      "245   9.457431  19.721941\n",
      "246  10.704455  17.721502\n",
      "247  10.549203  21.956162\n",
      "248   9.974101  20.369451\n",
      "249   9.568170  21.517879\n",
      "\n",
      "[250 rows x 2 columns]\n"
     ]
    }
   ],
   "source": []
  },
  {
   "cell_type": "markdown",
   "metadata": {},
   "source": [
    "### 9. Combine all three arrays a,b,c into a dataframe"
   ]
  },
  {
   "cell_type": "code",
   "execution_count": 141,
   "metadata": {},
   "outputs": [
    {
     "name": "stdout",
     "output_type": "stream",
     "text": [
      "             0          1\n",
      "0    14.034555   5.203326\n",
      "1    11.939588   2.927840\n",
      "2    13.645660   0.386864\n",
      "3     9.422214  -1.505172\n",
      "4     9.109515  -1.510794\n",
      "5    13.402036   2.938785\n",
      "6    10.197878   4.791341\n",
      "7    10.114886  -1.362061\n",
      "8    12.279763   0.060944\n",
      "9     6.193625  -1.730226\n",
      "10   12.603099  -0.292045\n",
      "11    9.596545   2.392565\n",
      "12   11.721493   4.032863\n",
      "13   14.923084   1.849067\n",
      "14   10.478098  -0.390305\n",
      "15    8.498188   0.296711\n",
      "16   10.324594  -2.721035\n",
      "17   12.217132   1.059298\n",
      "18   10.821600   2.714992\n",
      "19    9.711114   2.432241\n",
      "20    8.778519  -1.090058\n",
      "21    9.855092   1.447685\n",
      "22   12.187463  -0.636017\n",
      "23    8.642657   3.212798\n",
      "24    9.634489   0.041898\n",
      "25   11.480032   0.592646\n",
      "26   13.655182  -0.809807\n",
      "27    8.888356   1.713491\n",
      "28    8.374735  -0.812029\n",
      "29    8.685960   3.255171\n",
      "..         ...        ...\n",
      "220   8.421564  18.608571\n",
      "221  12.096857  22.656948\n",
      "222  10.678690  23.461376\n",
      "223  13.507590  21.164615\n",
      "224   9.734352  22.520626\n",
      "225   8.255992  18.157587\n",
      "226  10.740157  15.798063\n",
      "227  11.305074  19.619210\n",
      "228  12.340092  22.641795\n",
      "229   9.493260  20.078339\n",
      "230  11.201622  14.972101\n",
      "231  11.255181  18.529661\n",
      "232   8.604431  15.490194\n",
      "233   9.370972  19.666135\n",
      "234   9.316000  17.974970\n",
      "235  12.881442  18.195199\n",
      "236   9.507722  21.351268\n",
      "237   8.494146  18.827777\n",
      "238  12.161247  17.998866\n",
      "239  11.321071  20.852823\n",
      "240   9.359128  18.332038\n",
      "241  12.218440  22.952667\n",
      "242  11.130596  20.290941\n",
      "243   9.528879  20.564768\n",
      "244   8.832324  20.106510\n",
      "245   7.692840  20.333897\n",
      "246  11.913366  20.291452\n",
      "247   9.300469  21.756703\n",
      "248  10.896447  22.140358\n",
      "249   5.752811  15.835140\n",
      "\n",
      "[250 rows x 2 columns]\n"
     ]
    }
   ],
   "source": [
    "#new_df_array = np.concatenate((a,b,c),axis=0)\n",
    "new_df = pd.DataFrame(np.concatenate((a,b,c),axis=0))\n",
    "print(new_df)"
   ]
  },
  {
   "cell_type": "code",
   "execution_count": null,
   "metadata": {},
   "outputs": [],
   "source": []
  },
  {
   "cell_type": "markdown",
   "metadata": {},
   "source": [
    "### 10. Use scatter matrix to print all the 3 distributions"
   ]
  },
  {
   "cell_type": "code",
   "execution_count": 142,
   "metadata": {},
   "outputs": [
    {
     "data": {
      "text/plain": [
       "<seaborn.axisgrid.PairGrid at 0xe885d472b0>"
      ]
     },
     "execution_count": 142,
     "metadata": {},
     "output_type": "execute_result"
    },
    {
     "data": {
      "image/png": "[encoded data removed]",
      "text/plain": [
       "<Figure size 504x1008 with 6 Axes>"
      ]
     },
     "metadata": {},
     "output_type": "display_data"
    }
   ],
   "source": [
    "\n",
    "sns.pairplot(new_df, size=7,aspect=0.5 , diag_kind='kde')\n"
   ]
  },
  {
   "cell_type": "code",
   "execution_count": null,
   "metadata": {},
   "outputs": [],
   "source": []
  },
  {
   "cell_type": "markdown",
   "metadata": {},
   "source": [
    "### 11. Find out the linkage matrix"
   ]
  },
  {
   "cell_type": "code",
   "execution_count": 158,
   "metadata": {},
   "outputs": [
    {
     "name": "stdout",
     "output_type": "stream",
     "text": [
      "0.7698528201760645\n"
     ]
    }
   ],
   "source": [
    "from scipy.cluster.hierarchy import cophenet, dendrogram, linkage\n",
    "from scipy.spatial.distance import pdist  #Pairwise distribution between data points\n",
    "#dfn.columns=colNames\n",
    "z=linkage(new_df,method = 'ward', metric = 'euclidean')\n",
    "c, coph_dists = cophenet(z , pdist(df))\n",
    "print(c)"
   ]
  },
  {
   "cell_type": "markdown",
   "metadata": {},
   "source": [
    "Use ward as linkage metric and distance as Eucledian"
   ]
  },
  {
   "cell_type": "code",
   "execution_count": 159,
   "metadata": {},
   "outputs": [
    {
     "name": "stdout",
     "output_type": "stream",
     "text": [
      "[[2.30000000e+01 2.90000000e+01 6.05861942e-02 2.00000000e+00]\n",
      " [7.00000000e+00 3.10000000e+01 7.12026075e-02 2.00000000e+00]\n",
      " [5.70000000e+01 6.00000000e+01 7.90397103e-02 2.00000000e+00]\n",
      " [3.80000000e+01 6.50000000e+01 8.06171747e-02 2.00000000e+00]\n",
      " [2.10000000e+01 3.20000000e+01 8.83768990e-02 2.00000000e+00]\n",
      " [2.10000000e+02 2.15000000e+02 1.00169089e-01 2.00000000e+00]\n",
      " [1.50000000e+01 8.10000000e+01 1.04832934e-01 2.00000000e+00]\n",
      " [1.26000000e+02 1.48000000e+02 1.14395726e-01 2.00000000e+00]\n",
      " [1.10000000e+01 1.90000000e+01 1.21244274e-01 2.00000000e+00]\n",
      " [6.70000000e+01 9.40000000e+01 1.47875946e-01 2.00000000e+00]\n",
      " [1.85000000e+02 2.03000000e+02 1.50761570e-01 2.00000000e+00]\n",
      " [4.80000000e+01 7.30000000e+01 1.54943935e-01 2.00000000e+00]\n",
      " [1.69000000e+02 1.78000000e+02 1.56740915e-01 2.00000000e+00]\n",
      " [1.87000000e+02 2.28000000e+02 1.59847251e-01 2.00000000e+00]\n",
      " [1.56000000e+02 1.75000000e+02 1.62821175e-01 2.00000000e+00]\n",
      " [5.30000000e+01 8.40000000e+01 1.63211362e-01 2.00000000e+00]\n",
      " [3.30000000e+01 9.80000000e+01 1.68080320e-01 2.00000000e+00]\n",
      " [2.17000000e+02 2.29000000e+02 1.70208576e-01 2.00000000e+00]\n",
      " [7.40000000e+01 9.30000000e+01 1.75154854e-01 2.00000000e+00]\n",
      " [1.91000000e+02 2.25000000e+02 1.80979598e-01 2.00000000e+00]\n",
      " [1.53000000e+02 2.31000000e+02 1.83435274e-01 2.00000000e+00]\n",
      " [3.50000000e+01 9.20000000e+01 1.85098268e-01 2.00000000e+00]\n",
      " [1.60000000e+02 1.88000000e+02 1.87434330e-01 2.00000000e+00]\n",
      " [1.79000000e+02 2.43000000e+02 1.91081866e-01 2.00000000e+00]\n",
      " [4.50000000e+01 8.90000000e+01 2.03883969e-01 2.00000000e+00]\n",
      " [1.63000000e+02 2.39000000e+02 2.03978523e-01 2.00000000e+00]\n",
      " [2.00000000e+01 9.50000000e+01 2.04888275e-01 2.00000000e+00]\n",
      " [2.00000000e+02 2.04000000e+02 2.15098657e-01 2.00000000e+00]\n",
      " [1.52000000e+02 1.59000000e+02 2.15364782e-01 2.00000000e+00]\n",
      " [1.80000000e+01 3.40000000e+01 2.28152678e-01 2.00000000e+00]\n",
      " [2.20000000e+02 2.37000000e+02 2.30909546e-01 2.00000000e+00]\n",
      " [1.89000000e+02 1.95000000e+02 2.31125121e-01 2.00000000e+00]\n",
      " [1.13000000e+02 1.49000000e+02 2.31943085e-01 2.00000000e+00]\n",
      " [1.40000000e+01 6.20000000e+01 2.35556511e-01 2.00000000e+00]\n",
      " [5.00000000e+00 5.20000000e+01 2.39812343e-01 2.00000000e+00]\n",
      " [1.64000000e+02 1.76000000e+02 2.45414575e-01 2.00000000e+00]\n",
      " [1.62000000e+02 1.99000000e+02 2.45983389e-01 2.00000000e+00]\n",
      " [9.00000000e+00 3.00000000e+01 2.48238486e-01 2.00000000e+00]\n",
      " [1.00000000e+02 1.23000000e+02 2.53744035e-01 2.00000000e+00]\n",
      " [1.81000000e+02 1.86000000e+02 2.60759063e-01 2.00000000e+00]\n",
      " [1.07000000e+02 2.57000000e+02 2.65588647e-01 3.00000000e+00]\n",
      " [2.40000000e+01 5.00000000e+01 2.68408129e-01 2.00000000e+00]\n",
      " [1.57000000e+02 2.11000000e+02 2.68607164e-01 2.00000000e+00]\n",
      " [2.70000000e+01 6.30000000e+01 2.71614769e-01 2.00000000e+00]\n",
      " [1.92000000e+02 2.33000000e+02 2.77291948e-01 2.00000000e+00]\n",
      " [1.97000000e+02 2.46000000e+02 2.83829416e-01 2.00000000e+00]\n",
      " [1.58000000e+02 2.23000000e+02 2.86892827e-01 2.00000000e+00]\n",
      " [1.68000000e+02 2.27000000e+02 2.91544550e-01 2.00000000e+00]\n",
      " [1.77000000e+02 2.44000000e+02 2.91693784e-01 2.00000000e+00]\n",
      " [4.70000000e+01 2.93000000e+02 3.11031681e-01 3.00000000e+00]\n",
      " [3.00000000e+00 4.00000000e+00 3.12749641e-01 2.00000000e+00]\n",
      " [2.21000000e+02 2.41000000e+02 3.19737432e-01 2.00000000e+00]\n",
      " [1.96000000e+02 2.48000000e+02 3.27956657e-01 2.00000000e+00]\n",
      " [2.80000000e+01 5.60000000e+01 3.33292945e-01 2.00000000e+00]\n",
      " [2.18000000e+02 2.69000000e+02 3.34552592e-01 3.00000000e+00]\n",
      " [1.05000000e+02 1.35000000e+02 3.36997031e-01 2.00000000e+00]\n",
      " [2.07000000e+02 2.60000000e+02 3.51622386e-01 3.00000000e+00]\n",
      " [2.34000000e+02 2.40000000e+02 3.59663131e-01 2.00000000e+00]\n",
      " [4.90000000e+01 2.71000000e+02 3.64350833e-01 3.00000000e+00]\n",
      " [2.02000000e+02 2.92000000e+02 3.69085142e-01 3.00000000e+00]\n",
      " [4.00000000e+01 8.00000000e+01 3.70055135e-01 2.00000000e+00]\n",
      " [1.20000000e+01 6.10000000e+01 3.70413669e-01 2.00000000e+00]\n",
      " [3.60000000e+01 4.60000000e+01 3.70489509e-01 2.00000000e+00]\n",
      " [7.00000000e+01 2.68000000e+02 3.76788992e-01 3.00000000e+00]\n",
      " [7.70000000e+01 2.59000000e+02 3.80882783e-01 3.00000000e+00]\n",
      " [1.33000000e+02 1.38000000e+02 3.81225653e-01 2.00000000e+00]\n",
      " [1.51000000e+02 2.36000000e+02 3.81808430e-01 2.00000000e+00]\n",
      " [1.27000000e+02 1.45000000e+02 3.82616223e-01 2.00000000e+00]\n",
      " [1.06000000e+02 1.18000000e+02 3.82834270e-01 2.00000000e+00]\n",
      " [4.10000000e+01 6.80000000e+01 3.85927897e-01 2.00000000e+00]\n",
      " [9.10000000e+01 3.03000000e+02 3.94298457e-01 3.00000000e+00]\n",
      " [6.90000000e+01 2.76000000e+02 3.97011814e-01 3.00000000e+00]\n",
      " [2.12000000e+02 2.75000000e+02 3.99199089e-01 3.00000000e+00]\n",
      " [5.40000000e+01 8.70000000e+01 4.05916367e-01 2.00000000e+00]\n",
      " [1.36000000e+02 1.42000000e+02 4.10045887e-01 2.00000000e+00]\n",
      " [7.60000000e+01 7.90000000e+01 4.12522886e-01 2.00000000e+00]\n",
      " [5.50000000e+01 7.80000000e+01 4.17460514e-01 2.00000000e+00]\n",
      " [1.41000000e+02 2.90000000e+02 4.29833349e-01 4.00000000e+00]\n",
      " [5.90000000e+01 9.00000000e+01 4.29940985e-01 2.00000000e+00]\n",
      " [1.61000000e+02 2.55000000e+02 4.31728659e-01 3.00000000e+00]\n",
      " [2.05000000e+02 2.70000000e+02 4.33544990e-01 3.00000000e+00]\n",
      " [4.20000000e+01 2.74000000e+02 4.38942159e-01 3.00000000e+00]\n",
      " [2.64000000e+02 2.80000000e+02 4.39298979e-01 4.00000000e+00]\n",
      " [2.63000000e+02 3.01000000e+02 4.58923451e-01 4.00000000e+00]\n",
      " [2.67000000e+02 2.94000000e+02 4.64273709e-01 4.00000000e+00]\n",
      " [1.50000000e+02 2.77000000e+02 4.66467947e-01 3.00000000e+00]\n",
      " [2.19000000e+02 2.86000000e+02 4.68134984e-01 3.00000000e+00]\n",
      " [1.65000000e+02 1.73000000e+02 4.68623668e-01 2.00000000e+00]\n",
      " [1.25000000e+02 2.82000000e+02 4.70125320e-01 3.00000000e+00]\n",
      " [8.00000000e+00 9.70000000e+01 4.71459115e-01 2.00000000e+00]\n",
      " [1.31000000e+02 1.46000000e+02 4.91814698e-01 2.00000000e+00]\n",
      " [1.90000000e+02 2.72000000e+02 4.92189139e-01 3.00000000e+00]\n",
      " [1.72000000e+02 2.09000000e+02 4.98269263e-01 2.00000000e+00]\n",
      " [1.02000000e+02 1.11000000e+02 4.99284765e-01 2.00000000e+00]\n",
      " [7.10000000e+01 2.65000000e+02 5.12822934e-01 3.00000000e+00]\n",
      " [2.42000000e+02 2.78000000e+02 5.21117056e-01 3.00000000e+00]\n",
      " [8.60000000e+01 2.52000000e+02 5.27562893e-01 3.00000000e+00]\n",
      " [8.50000000e+01 2.61000000e+02 5.33941377e-01 3.00000000e+00]\n",
      " [1.00000000e+01 2.20000000e+01 5.39510262e-01 2.00000000e+00]\n",
      " [7.50000000e+01 2.79000000e+02 5.48288340e-01 3.00000000e+00]\n",
      " [1.09000000e+02 1.22000000e+02 5.49530800e-01 2.00000000e+00]\n",
      " [5.10000000e+01 2.50000000e+02 5.53546111e-01 3.00000000e+00]\n",
      " [1.80000000e+02 3.02000000e+02 5.57986238e-01 3.00000000e+00]\n",
      " [1.74000000e+02 3.35000000e+02 5.64140126e-01 4.00000000e+00]\n",
      " [1.37000000e+02 2.88000000e+02 5.66756593e-01 3.00000000e+00]\n",
      " [2.91000000e+02 3.31000000e+02 5.71637750e-01 5.00000000e+00]\n",
      " [1.03000000e+02 1.40000000e+02 5.85761538e-01 2.00000000e+00]\n",
      " [1.20000000e+02 3.17000000e+02 6.09973498e-01 3.00000000e+00]\n",
      " [1.08000000e+02 1.15000000e+02 6.10974702e-01 2.00000000e+00]\n",
      " [1.34000000e+02 1.39000000e+02 6.27387535e-01 2.00000000e+00]\n",
      " [1.24000000e+02 1.28000000e+02 6.30791532e-01 2.00000000e+00]\n",
      " [2.62000000e+02 2.73000000e+02 6.35300798e-01 4.00000000e+00]\n",
      " [1.67000000e+02 3.52000000e+02 6.37259101e-01 4.00000000e+00]\n",
      " [2.00000000e+00 3.26000000e+02 6.45618413e-01 3.00000000e+00]\n",
      " [1.83000000e+02 3.07000000e+02 6.51135372e-01 3.00000000e+00]\n",
      " [1.93000000e+02 2.24000000e+02 6.61261459e-01 2.00000000e+00]\n",
      " [2.06000000e+02 2.14000000e+02 6.62956553e-01 2.00000000e+00]\n",
      " [1.12000000e+02 1.44000000e+02 6.65600295e-01 2.00000000e+00]\n",
      " [2.50000000e+01 8.30000000e+01 6.72400613e-01 2.00000000e+00]\n",
      " [1.10000000e+02 1.21000000e+02 6.77825270e-01 2.00000000e+00]\n",
      " [8.20000000e+01 8.80000000e+01 6.86839271e-01 2.00000000e+00]\n",
      " [1.14000000e+02 1.43000000e+02 6.90198725e-01 2.00000000e+00]\n",
      " [2.81000000e+02 3.06000000e+02 6.92241618e-01 5.00000000e+00]\n",
      " [6.60000000e+01 3.25000000e+02 6.93366612e-01 3.00000000e+00]\n",
      " [7.20000000e+01 9.60000000e+01 7.00775234e-01 2.00000000e+00]\n",
      " [1.55000000e+02 3.65000000e+02 7.20957697e-01 3.00000000e+00]\n",
      " [2.51000000e+02 3.28000000e+02 7.27049024e-01 4.00000000e+00]\n",
      " [1.54000000e+02 3.32000000e+02 7.31365892e-01 5.00000000e+00]\n",
      " [1.70000000e+01 3.10000000e+02 7.32583196e-01 3.00000000e+00]\n",
      " [2.13000000e+02 2.26000000e+02 7.33299511e-01 2.00000000e+00]\n",
      " [2.47000000e+02 3.16000000e+02 7.37690162e-01 3.00000000e+00]\n",
      " [2.35000000e+02 2.38000000e+02 7.46476650e-01 2.00000000e+00]\n",
      " [2.66000000e+02 3.19000000e+02 7.49821191e-01 4.00000000e+00]\n",
      " [3.14000000e+02 3.46000000e+02 7.50780520e-01 6.00000000e+00]\n",
      " [2.32000000e+02 2.85000000e+02 7.75603876e-01 3.00000000e+00]\n",
      " [3.29000000e+02 3.41000000e+02 7.89323605e-01 6.00000000e+00]\n",
      " [3.90000000e+01 9.90000000e+01 7.93419059e-01 2.00000000e+00]\n",
      " [2.08000000e+02 3.04000000e+02 7.96060106e-01 4.00000000e+00]\n",
      " [1.29000000e+02 1.30000000e+02 8.14304765e-01 2.00000000e+00]\n",
      " [3.44000000e+02 3.47000000e+02 8.19197965e-01 6.00000000e+00]\n",
      " [3.00000000e+02 3.21000000e+02 8.19968650e-01 5.00000000e+00]\n",
      " [1.71000000e+02 3.33000000e+02 8.27313972e-01 5.00000000e+00]\n",
      " [2.97000000e+02 3.45000000e+02 8.38750575e-01 5.00000000e+00]\n",
      " [1.98000000e+02 3.09000000e+02 8.55480223e-01 4.00000000e+00]\n",
      " [1.00000000e+00 3.08000000e+02 8.93783345e-01 4.00000000e+00]\n",
      " [1.70000000e+02 2.96000000e+02 8.98536366e-01 3.00000000e+00]\n",
      " [3.15000000e+02 3.40000000e+02 9.67494820e-01 4.00000000e+00]\n",
      " [3.12000000e+02 3.48000000e+02 9.68993204e-01 4.00000000e+00]\n",
      " [2.98000000e+02 3.34000000e+02 1.01659307e+00 6.00000000e+00]\n",
      " [3.39000000e+02 3.68000000e+02 1.05202913e+00 4.00000000e+00]\n",
      " [3.70000000e+01 2.84000000e+02 1.08737194e+00 3.00000000e+00]\n",
      " [1.82000000e+02 3.22000000e+02 1.09421284e+00 4.00000000e+00]\n",
      " [5.80000000e+01 3.70000000e+02 1.10632326e+00 3.00000000e+00]\n",
      " [3.30000000e+02 3.42000000e+02 1.14645504e+00 5.00000000e+00]\n",
      " [2.89000000e+02 3.87000000e+02 1.19958432e+00 6.00000000e+00]\n",
      " [3.54000000e+02 3.88000000e+02 1.20522992e+00 5.00000000e+00]\n",
      " [3.05000000e+02 3.60000000e+02 1.22978650e+00 4.00000000e+00]\n",
      " [2.01000000e+02 3.75000000e+02 1.23988108e+00 4.00000000e+00]\n",
      " [6.00000000e+00 4.40000000e+01 1.24188162e+00 2.00000000e+00]\n",
      " [6.40000000e+01 3.86000000e+02 1.25983112e+00 3.00000000e+00]\n",
      " [2.83000000e+02 3.73000000e+02 1.27826359e+00 5.00000000e+00]\n",
      " [3.61000000e+02 3.98000000e+02 1.27894859e+00 1.00000000e+01]\n",
      " [2.45000000e+02 3.66000000e+02 1.29685229e+00 3.00000000e+00]\n",
      " [1.04000000e+02 3.56000000e+02 1.29696809e+00 3.00000000e+00]\n",
      " [2.54000000e+02 3.83000000e+02 1.30462132e+00 8.00000000e+00]\n",
      " [2.22000000e+02 4.07000000e+02 1.30746130e+00 5.00000000e+00]\n",
      " [1.94000000e+02 3.81000000e+02 1.32320738e+00 3.00000000e+00]\n",
      " [1.01000000e+02 3.71000000e+02 1.32589516e+00 3.00000000e+00]\n",
      " [3.27000000e+02 3.59000000e+02 1.39033354e+00 6.00000000e+00]\n",
      " [2.60000000e+01 3.97000000e+02 1.41236311e+00 5.00000000e+00]\n",
      " [2.87000000e+02 4.02000000e+02 1.43828588e+00 5.00000000e+00]\n",
      " [2.95000000e+02 3.92000000e+02 1.45003000e+00 7.00000000e+00]\n",
      " [3.23000000e+02 3.78000000e+02 1.45351449e+00 5.00000000e+00]\n",
      " [3.57000000e+02 3.58000000e+02 1.47442359e+00 5.00000000e+00]\n",
      " [4.30000000e+01 3.63000000e+02 1.47478674e+00 4.00000000e+00]\n",
      " [1.60000000e+01 3.76000000e+02 1.48466088e+00 5.00000000e+00]\n",
      " [2.30000000e+02 3.79000000e+02 1.51528178e+00 3.00000000e+00]\n",
      " [2.58000000e+02 3.49000000e+02 1.54134555e+00 5.00000000e+00]\n",
      " [2.56000000e+02 3.20000000e+02 1.54757879e+00 5.00000000e+00]\n",
      " [3.96000000e+02 4.13000000e+02 1.61009170e+00 7.00000000e+00]\n",
      " [3.80000000e+02 3.85000000e+02 1.61199080e+00 9.00000000e+00]\n",
      " [1.19000000e+02 3.69000000e+02 1.62522749e+00 3.00000000e+00]\n",
      " [3.53000000e+02 3.72000000e+02 1.66921835e+00 9.00000000e+00]\n",
      " [3.74000000e+02 3.89000000e+02 1.76204704e+00 8.00000000e+00]\n",
      " [3.55000000e+02 3.82000000e+02 1.80041759e+00 9.00000000e+00]\n",
      " [3.43000000e+02 4.18000000e+02 1.81254994e+00 8.00000000e+00]\n",
      " [3.38000000e+02 4.06000000e+02 1.81371727e+00 7.00000000e+00]\n",
      " [3.13000000e+02 3.90000000e+02 1.84943564e+00 8.00000000e+00]\n",
      " [1.47000000e+02 4.31000000e+02 1.89860817e+00 4.00000000e+00]\n",
      " [3.50000000e+02 3.67000000e+02 1.90233575e+00 4.00000000e+00]\n",
      " [1.16000000e+02 4.17000000e+02 1.94607505e+00 4.00000000e+00]\n",
      " [3.18000000e+02 4.23000000e+02 1.96555716e+00 7.00000000e+00]\n",
      " [3.64000000e+02 3.93000000e+02 2.00072717e+00 7.00000000e+00]\n",
      " [3.37000000e+02 3.84000000e+02 2.11645114e+00 5.00000000e+00]\n",
      " [3.77000000e+02 4.12000000e+02 2.18636459e+00 8.00000000e+00]\n",
      " [2.16000000e+02 4.16000000e+02 2.19551535e+00 4.00000000e+00]\n",
      " [4.01000000e+02 4.21000000e+02 2.20240233e+00 1.10000000e+01]\n",
      " [1.84000000e+02 4.30000000e+02 2.21419896e+00 1.00000000e+01]\n",
      " [3.94000000e+02 4.22000000e+02 2.27878887e+00 9.00000000e+00]\n",
      " [2.53000000e+02 4.19000000e+02 2.29403895e+00 7.00000000e+00]\n",
      " [3.36000000e+02 4.26000000e+02 2.46216586e+00 6.00000000e+00]\n",
      " [4.14000000e+02 4.34000000e+02 2.48236684e+00 1.70000000e+01]\n",
      " [1.30000000e+01 4.24000000e+02 2.52319628e+00 5.00000000e+00]\n",
      " [2.99000000e+02 3.51000000e+02 2.54075122e+00 6.00000000e+00]\n",
      " [0.00000000e+00 4.00000000e+02 2.57007568e+00 4.00000000e+00]\n",
      " [3.62000000e+02 4.15000000e+02 2.68935687e+00 9.00000000e+00]\n",
      " [4.10000000e+02 4.25000000e+02 2.68989560e+00 1.00000000e+01]\n",
      " [4.05000000e+02 4.36000000e+02 2.69283338e+00 1.20000000e+01]\n",
      " [4.09000000e+02 4.28000000e+02 2.71936627e+00 8.00000000e+00]\n",
      " [3.24000000e+02 4.29000000e+02 2.72568130e+00 9.00000000e+00]\n",
      " [3.99000000e+02 4.49000000e+02 2.89955246e+00 1.10000000e+01]\n",
      " [4.04000000e+02 4.42000000e+02 3.01502779e+00 1.30000000e+01]\n",
      " [4.32000000e+02 4.46000000e+02 3.01559616e+00 2.00000000e+01]\n",
      " [3.11000000e+02 4.54000000e+02 3.03271078e+00 6.00000000e+00]\n",
      " [1.32000000e+02 4.39000000e+02 3.21507478e+00 5.00000000e+00]\n",
      " [1.17000000e+02 4.41000000e+02 3.25398200e+00 8.00000000e+00]\n",
      " [4.27000000e+02 4.53000000e+02 3.35808189e+00 1.10000000e+01]\n",
      " [3.91000000e+02 3.95000000e+02 3.46457038e+00 8.00000000e+00]\n",
      " [2.49000000e+02 4.43000000e+02 3.67448520e+00 6.00000000e+00]\n",
      " [4.11000000e+02 4.47000000e+02 3.68112164e+00 2.00000000e+01]\n",
      " [4.03000000e+02 4.45000000e+02 3.69130181e+00 9.00000000e+00]\n",
      " [4.35000000e+02 4.40000000e+02 3.93995783e+00 1.20000000e+01]\n",
      " [4.37000000e+02 4.56000000e+02 4.09332579e+00 1.80000000e+01]\n",
      " [4.08000000e+02 4.66000000e+02 5.17416883e+00 1.30000000e+01]\n",
      " [4.38000000e+02 4.59000000e+02 5.22559659e+00 1.30000000e+01]\n",
      " [4.44000000e+02 4.61000000e+02 5.25588499e+00 2.10000000e+01]\n",
      " [4.52000000e+02 4.60000000e+02 5.31650070e+00 1.60000000e+01]\n",
      " [4.20000000e+02 4.58000000e+02 5.73621346e+00 1.30000000e+01]\n",
      " [4.33000000e+02 4.72000000e+02 5.97192534e+00 2.60000000e+01]\n",
      " [4.57000000e+02 4.64000000e+02 5.99423167e+00 1.70000000e+01]\n",
      " [4.50000000e+02 4.70000000e+02 6.04485499e+00 1.50000000e+01]\n",
      " [4.55000000e+02 4.67000000e+02 6.14695259e+00 1.70000000e+01]\n",
      " [4.48000000e+02 4.63000000e+02 6.18661104e+00 1.50000000e+01]\n",
      " [1.66000000e+02 4.81000000e+02 6.56988271e+00 1.80000000e+01]\n",
      " [4.62000000e+02 4.69000000e+02 8.18590157e+00 4.00000000e+01]\n",
      " [4.51000000e+02 4.73000000e+02 8.45904071e+00 3.00000000e+01]\n",
      " [4.77000000e+02 4.78000000e+02 8.57440610e+00 3.90000000e+01]\n",
      " [4.68000000e+02 4.75000000e+02 8.98640875e+00 2.70000000e+01]\n",
      " [4.76000000e+02 4.82000000e+02 1.05904037e+01 3.10000000e+01]\n",
      " [4.65000000e+02 4.71000000e+02 1.08000810e+01 2.00000000e+01]\n",
      " [4.74000000e+02 4.79000000e+02 1.30939318e+01 3.00000000e+01]\n",
      " [4.83000000e+02 4.84000000e+02 1.37090836e+01 5.80000000e+01]\n",
      " [4.80000000e+02 4.87000000e+02 1.39327588e+01 4.20000000e+01]\n",
      " [4.85000000e+02 4.88000000e+02 1.48265950e+01 6.10000000e+01]\n",
      " [4.89000000e+02 4.90000000e+02 1.61658713e+01 5.00000000e+01]\n",
      " [4.91000000e+02 4.92000000e+02 2.46333165e+01 1.00000000e+02]\n",
      " [4.86000000e+02 4.93000000e+02 2.65998972e+01 1.00000000e+02]\n",
      " [4.94000000e+02 4.95000000e+02 8.21232046e+01 1.50000000e+02]\n",
      " [4.96000000e+02 4.97000000e+02 2.14849871e+02 2.50000000e+02]]\n"
     ]
    }
   ],
   "source": [
    "print(z)"
   ]
  },
  {
   "cell_type": "code",
   "execution_count": null,
   "metadata": {},
   "outputs": [],
   "source": []
  },
  {
   "cell_type": "markdown",
   "metadata": {},
   "source": [
    "### 12. Plot the dendrogram for the consolidated dataframe"
   ]
  },
  {
   "cell_type": "code",
   "execution_count": 160,
   "metadata": {},
   "outputs": [
    {
     "data": {
      "image/png": "[encoded data removed]",
      "text/plain": [
       "<Figure size 720x720 with 1 Axes>"
      ]
     },
     "metadata": {},
     "output_type": "display_data"
    }
   ],
   "source": [
    "plt.figure(figsize=(10, 10))\n",
    "plt.title('Agglomerative Hierarchical Clustering Dendogram')\n",
    "plt.xlabel('sample index')\n",
    "plt.ylabel('Distance')\n",
    "dendrogram(z)\n",
    "plt.tight_layout()"
   ]
  },
  {
   "cell_type": "code",
   "execution_count": null,
   "metadata": {},
   "outputs": [],
   "source": []
  },
  {
   "cell_type": "code",
   "execution_count": null,
   "metadata": {},
   "outputs": [],
   "source": []
  },
  {
   "cell_type": "markdown",
   "metadata": {},
   "source": [
    "### 13. Recreate the dendrogram for last 12 merged clusters "
   ]
  },
  {
   "cell_type": "code",
   "execution_count": 161,
   "metadata": {},
   "outputs": [
    {
     "data": {
      "image/png": "[encoded data removed]",
      "text/plain": [
       "<Figure size 720x720 with 1 Axes>"
      ]
     },
     "metadata": {},
     "output_type": "display_data"
    }
   ],
   "source": [
    "plt.figure(figsize=(10, 10))\n",
    "plt.title('Agglomerative Hierarchical Clustering Dendogram')\n",
    "plt.xlabel('sample index')\n",
    "plt.ylabel('Distance')\n",
    "dendrogram(z,p=12,truncate_mode='lastp')\n",
    "plt.tight_layout()"
   ]
  },
  {
   "cell_type": "markdown",
   "metadata": {},
   "source": [
    "Hint: Use truncate_mode='lastp' attribute in dendrogram function to arrive at dendrogram "
   ]
  },
  {
   "cell_type": "code",
   "execution_count": null,
   "metadata": {},
   "outputs": [],
   "source": []
  },
  {
   "cell_type": "code",
   "execution_count": null,
   "metadata": {},
   "outputs": [],
   "source": []
  },
  {
   "cell_type": "markdown",
   "metadata": {},
   "source": [
    "### 14. From the truncated dendrogram, find out the optimal distance between clusters which u want to use an input for clustering data"
   ]
  },
  {
   "cell_type": "code",
   "execution_count": null,
   "metadata": {},
   "outputs": [],
   "source": [
    "The distance is 15 and anything above that will give me 5 clusters"
   ]
  },
  {
   "cell_type": "code",
   "execution_count": null,
   "metadata": {},
   "outputs": [],
   "source": []
  },
  {
   "cell_type": "markdown",
   "metadata": {},
   "source": [
    "### 15. Using this distance measure and fcluster function to cluster the data into 3 different groups"
   ]
  },
  {
   "cell_type": "code",
   "execution_count": 166,
   "metadata": {},
   "outputs": [
    {
     "name": "stdout",
     "output_type": "stream",
     "text": [
      "[1 1 1 1 1 1 1 1 1 1 1 1 1 1 1 1 1 1 1 1 1 1 1 1 1 1 1 1 1 1 1 1 1 1 1 1 1\n",
      " 1 1 1 1 1 1 1 1 1 1 1 1 1 1 1 1 1 1 1 1 1 1 1 1 1 1 1 1 1 1 1 1 1 1 1 1 1\n",
      " 1 1 1 1 1 1 1 1 1 1 1 1 1 1 1 1 1 1 1 1 1 1 1 1 1 1 2 2 2 2 2 2 2 2 2 2 2\n",
      " 2 2 2 2 2 2 2 2 2 2 2 2 2 2 2 2 2 2 2 2 2 2 2 2 2 2 2 2 2 2 2 2 2 2 2 2 2\n",
      " 2 2 3 3 3 3 3 3 3 3 3 3 3 3 3 3 3 3 3 3 3 3 3 3 3 3 3 3 3 3 3 3 3 3 3 3 3\n",
      " 3 3 3 3 3 3 3 3 3 3 3 3 3 3 3 3 3 3 3 3 3 3 3 3 3 3 3 3 3 3 3 3 3 3 3 3 3\n",
      " 3 3 3 3 3 3 3 3 3 3 3 3 3 3 3 3 3 3 3 3 3 3 3 3 3 3 3 3]\n"
     ]
    }
   ],
   "source": [
    "from scipy.cluster.hierarchy import ward, fcluster\n",
    "from scipy.spatial.distance import pdist\n",
    "cluster = fcluster(z,t=50,criterion = 'distance')\n",
    "print(cluster)"
   ]
  },
  {
   "cell_type": "code",
   "execution_count": 174,
   "metadata": {},
   "outputs": [
    {
     "name": "stdout",
     "output_type": "stream",
     "text": [
      "[0 1]\n",
      "0      14.034555\n",
      "1      11.939588\n",
      "2      13.645660\n",
      "3       9.422214\n",
      "4       9.109515\n",
      "5      13.402036\n",
      "6      10.197878\n",
      "7      10.114886\n",
      "8      12.279763\n",
      "9       6.193625\n",
      "10     12.603099\n",
      "11      9.596545\n",
      "12     11.721493\n",
      "13     14.923084\n",
      "14     10.478098\n",
      "15      8.498188\n",
      "16     10.324594\n",
      "17     12.217132\n",
      "18     10.821600\n",
      "19      9.711114\n",
      "20      8.778519\n",
      "21      9.855092\n",
      "22     12.187463\n",
      "23      8.642657\n",
      "24      9.634489\n",
      "25     11.480032\n",
      "26     13.655182\n",
      "27      8.888356\n",
      "28      8.374735\n",
      "29      8.685960\n",
      "         ...    \n",
      "220     8.421564\n",
      "221    12.096857\n",
      "222    10.678690\n",
      "223    13.507590\n",
      "224     9.734352\n",
      "225     8.255992\n",
      "226    10.740157\n",
      "227    11.305074\n",
      "228    12.340092\n",
      "229     9.493260\n",
      "230    11.201622\n",
      "231    11.255181\n",
      "232     8.604431\n",
      "233     9.370972\n",
      "234     9.316000\n",
      "235    12.881442\n",
      "236     9.507722\n",
      "237     8.494146\n",
      "238    12.161247\n",
      "239    11.321071\n",
      "240     9.359128\n",
      "241    12.218440\n",
      "242    11.130596\n",
      "243     9.528879\n",
      "244     8.832324\n",
      "245     7.692840\n",
      "246    11.913366\n",
      "247     9.300469\n",
      "248    10.896447\n",
      "249     5.752811\n",
      "Name: 0, Length: 250, dtype: float64\n"
     ]
    }
   ],
   "source": [
    "print(new_df.columns.values)\n",
    "print(new_df[0])"
   ]
  },
  {
   "cell_type": "markdown",
   "metadata": {},
   "source": [
    "### Use matplotlib to visually observe the clusters in 2D space "
   ]
  },
  {
   "cell_type": "code",
   "execution_count": 175,
   "metadata": {},
   "outputs": [
    {
     "data": {
      "text/plain": [
       "<matplotlib.collections.PathCollection at 0xe8895293c8>"
      ]
     },
     "execution_count": 175,
     "metadata": {},
     "output_type": "execute_result"
    },
    {
     "data": {
      "image/png": "[encoded data removed]",
      "text/plain": [
       "<Figure size 432x288 with 1 Axes>"
      ]
     },
     "metadata": {},
     "output_type": "display_data"
    }
   ],
   "source": [
    "import matplotlib.pyplot as plt\n",
    "plt.scatter(new_df[0],new_df[1],c = cluster)"
   ]
  }
 ],
 "metadata": {
  "kernelspec": {
   "display_name": "Python 3",
   "language": "python",
   "name": "python3"
  },
  "language_info": {
   "codemirror_mode": {
    "name": "ipython",
    "version": 3
   },
   "file_extension": ".py",
   "mimetype": "text/x-python",
   "name": "python",
   "nbconvert_exporter": "python",
   "pygments_lexer": "ipython3",
   "version": "3.6.5"
  }
 },
 "nbformat": 4,
 "nbformat_minor": 2
}
