{
 "cells": [
  {
   "cell_type": "markdown",
   "metadata": {},
   "source": [
    "<center><h1> Artifical and Computational Intelligence Assignment 1 </h1></center>\n",
    " \n",
    "Problem Solving by using A*\n",
    "\n",
    "Weightage: 13%\n",
    "\n",
    "Date of Posting - 09/Dec/2019\n",
    "\n",
    "Deadline - 24/Dec/2019"
   ]
  },
  {
   "cell_type": "markdown",
   "metadata": {},
   "source": [
    "Please Enter group and Individual information below:\n",
    "\n",
    "Group ID/Number:ACI_Group12\n",
    "\n",
    "Group Members BITS ID:2018AB04731@wilp.bits-pilani.ac.in"
   ]
  },
  {
   "cell_type": "markdown",
   "metadata": {},
   "source": [
    "<h3>Things to Follow</h3>\n",
    "\n",
    "1. Use appropriate data structures for the fringes and explain the reasoning behind the usage. You need not create data structures, instead use available libraries directly.\n",
    "\n",
    "2. Avoid any hard-coding unless absolutely necessary.\n",
    "\n",
    "3. Provide proper documentation\n",
    "\n",
    "4. Read the question file provided carefully and attempt all the questions! "
   ]
  },
  {
   "cell_type": "markdown",
   "metadata": {},
   "source": [
    "Coding begins now!!!"
   ]
  },
  {
   "cell_type": "markdown",
   "metadata": {},
   "source": [
    "1) Define the environment representation in the following code block"
   ]
  },
  {
   "cell_type": "code",
   "execution_count": 1,
   "metadata": {},
   "outputs": [],
   "source": [
    "#Environment representation goes here\n",
    "class City():\n",
    "    def __init__(self, parent=None, position=None, latitude=0,longitude = 0):\n",
    "        self.parent = parent\n",
    "        self.position = position\n",
    "        \n",
    "        self.latitude = latitude\n",
    "        self.longitude = longitude\n",
    "\n",
    "        self.g = 0\n",
    "        self.h = 0\n",
    "        self.f = 0             \n",
    "        \n",
    "        self.branch = []\n",
    "\n",
    "    def __eq__(self, other):\n",
    "        return self.position == other.position\n",
    "\n"
   ]
  },
  {
   "cell_type": "code",
   "execution_count": 2,
   "metadata": {},
   "outputs": [
    {
     "name": "stdout",
     "output_type": "stream",
     "text": [
      "Panaji\n",
      "Mangalore\n",
      "raichur\n",
      "bellari\n"
     ]
    }
   ],
   "source": [
    "# Define cities and their branches\n",
    "panaji = City()\n",
    "panaji.data = \"Panaji\"\n",
    "panaji.latitude = 15.4909\n",
    "panaji.longitude = 73.8278\n",
    "\n",
    "mangalore = City()\n",
    "mangalore.data = \"Mangalore\"\n",
    "mangalore.latitude = 12.9141\n",
    "mangalore.longitude = 74.8560\n",
    "\n",
    "panaji.branch.append(mangalore)\n",
    "mangalore.branch.append(panaji)\n",
    "\n",
    "raichur = City()\n",
    "raichur.data = \"raichur\"\n",
    "raichur.latitude = 16.2076\n",
    "raichur.longitude = 77.3463\n",
    "\n",
    "panaji.branch.append(raichur)\n",
    "raichur.branch.append(panaji)\n",
    "\n",
    "bellari = City()\n",
    "bellari.data = \"bellari\"\n",
    "bellari.latitude = 15.1394\n",
    "bellari.longitude = 76.9214\n",
    "\n",
    "panaji.branch.append(bellari)\n",
    "bellari.branch.append(panaji)\n",
    "\n",
    "tripati = City()\n",
    "tripati.data = \"Tirupati\"\n",
    "tripati.latitude = 13.6288\n",
    "tripati.longitude = 79.4192\n",
    "\n",
    "bellari.branch.append(tripati)\n",
    "tripati.branch.append(bellari)\n",
    "raichur.branch.append(tripati)\n",
    "tripati.branch.append(raichur)\n",
    "\n",
    "#print cities starting from panaji\n",
    "\n",
    "print(panaji.data)\n",
    "length = len(panaji.branch)\n",
    "for i in range(length):\n",
    "    branch = panaji.branch[i].data\n",
    "    print(branch)\n",
    "    "
   ]
  },
  {
   "cell_type": "markdown",
   "metadata": {},
   "source": [
    "Define the haversine formula and what it does\n",
    "#‘haversine’ formula to calculate the great-circle distance between two points – that is, the shortest distance over the earth’s #surface – giving an ‘as-the-crow-flies’ distance between the points (ignoring any hills they fly over, of course!)."
   ]
  },
  {
   "cell_type": "raw",
   "metadata": {},
   "source": [
    "#haversine formula representation \n",
    "#Haversine formula:\ta = sin²(Δφ/2) + cos φ1 ⋅ cos φ2 ⋅ sin²(Δλ/2)\n",
    "#c = 2 ⋅ atan2( √a, √(1−a) )\n",
    "#d = R ⋅ c\n",
    "\t#φ is latitude, λ is longitude, R is earth’s radius (mean radius = 6,371km);\n"
   ]
  },
  {
   "cell_type": "markdown",
   "metadata": {},
   "source": [
    "2) Define a function which calculates the heuristic distance from each city to the destination city in the following code block"
   ]
  },
  {
   "cell_type": "code",
   "execution_count": 3,
   "metadata": {},
   "outputs": [
    {
     "name": "stdout",
     "output_type": "stream",
     "text": [
      "10\n"
     ]
    }
   ],
   "source": [
    "# Define the cities, latitude, longitude\n",
    "\n",
    "cities    = ['Panaji', 'Raichur', 'Mangalore', 'Bellari', 'Tripati', 'Kurnool', 'Kozhikode', 'Bangalore', 'Nellore', 'Chennai']\n",
    "latitude  =[15.4909,16.2076,12.9141,15.1394,13.6288,15.8281,11.2588,12.9716,14.4426,13.0827]\n",
    "longitude = [73.8278,77.3463,74.8560,76.9214,79.4192,78.0373,75.7804,77.5946,79.9865,80.2707]\n",
    "length    = len(latitude)\n",
    "print(length)"
   ]
  },
  {
   "cell_type": "code",
   "execution_count": 11,
   "metadata": {},
   "outputs": [
    {
     "name": "stdout",
     "output_type": "stream",
     "text": [
      "[384.7033469773712, 332.96542352006054, 286.1593105636591, 274.1749558603398, 154.2976211368278]\n"
     ]
    }
   ],
   "source": [
    "#Function for calculating distance from each node/city to Destination\n",
    "\n",
    "from math import radians, cos, sin, asin, sqrt\n",
    "hlist = [];\n",
    "\n",
    "def heuristic(latitude, longitude):\n",
    "    \"\"\"\n",
    "    Calculate the great circle distance between two points \n",
    "    on the earth (specified in decimal degrees)\n",
    "    \"\"\"\n",
    "    # convert decimal degrees to radians \n",
    "    i=0;\n",
    "    while i < length: \n",
    "        lon1, lat1, lon2, lat2 = map(radians, [longitude[i], latitude[i], longitude[i+1], latitude[i+1]])\n",
    "        i = i+2;\n",
    "        hlist.append(haversine(lon1,lon2,lat1,lat2))\n",
    "\n",
    "def haversine(lon1,lon2,lat1,lat2):\n",
    "        # haversine formula \n",
    "        dlon = lon2 - lon1 \n",
    "        dlat = lat2 - lat1 \n",
    "        a = sin(dlat/2)**2 + cos(lat1) * cos(lat2) * sin(dlon/2)**2\n",
    "        c = 2 * asin(sqrt(a)) \n",
    "        r = 6371 # Radius of earth in kilometers. Use 3956 for miles\n",
    "        return c * r\n",
    "\n",
    "heuristic(latitude,longitude)\n",
    "print(hlist)\n"
   ]
  },
  {
   "cell_type": "code",
   "execution_count": null,
   "metadata": {},
   "outputs": [],
   "source": []
  },
  {
   "cell_type": "code",
   "execution_count": 5,
   "metadata": {},
   "outputs": [],
   "source": [
    "#Code Block 2 .."
   ]
  },
  {
   "cell_type": "markdown",
   "metadata": {},
   "source": [
    "3) Implementation of A* Algorithm . Feel free to add code blocks for each methods needed starting here.\n",
    "Please modularize the implementation of A* and write each of them in a code block. "
   ]
  },
  {
   "cell_type": "code",
   "execution_count": 6,
   "metadata": {},
   "outputs": [],
   "source": [
    "#Code Block 1\n"
   ]
  },
  {
   "cell_type": "code",
   "execution_count": 7,
   "metadata": {},
   "outputs": [],
   "source": [
    "#Code Block 2 .. "
   ]
  },
  {
   "cell_type": "markdown",
   "metadata": {},
   "source": [
    "Call your main function/algorithm block in the next code block with appropriate input representation"
   ]
  },
  {
   "cell_type": "code",
   "execution_count": 8,
   "metadata": {},
   "outputs": [],
   "source": [
    "#Computation call\n"
   ]
  },
  {
   "cell_type": "markdown",
   "metadata": {},
   "source": [
    "The agent should provide expected output for questions mentioned below in the subsequent blocks"
   ]
  },
  {
   "cell_type": "markdown",
   "metadata": {},
   "source": [
    "(3.1) Path taken to reach destination from Panaji"
   ]
  },
  {
   "cell_type": "code",
   "execution_count": 9,
   "metadata": {},
   "outputs": [],
   "source": [
    "# Execute statement to retrieve the path taken here\n"
   ]
  },
  {
   "cell_type": "markdown",
   "metadata": {},
   "source": [
    "(3.2) Cost of the path"
   ]
  },
  {
   "cell_type": "code",
   "execution_count": 10,
   "metadata": {},
   "outputs": [],
   "source": [
    "# Execute statement to retrieve the cost of the path here\n"
   ]
  },
  {
   "cell_type": "markdown",
   "metadata": {},
   "source": [
    "(3.3) Total Number of nodes vistied to get this state"
   ]
  },
  {
   "cell_type": "code",
   "execution_count": null,
   "metadata": {},
   "outputs": [],
   "source": [
    "# Execute statement to retrieve the total number of nodes visited to get this state here\n"
   ]
  },
  {
   "cell_type": "markdown",
   "metadata": {},
   "source": [
    "<center>All the best!! Happy Coding!!Let human intelligence prevail</center>\n",
    "<center>**********************************************************</center>"
   ]
  }
 ],
 "metadata": {
  "kernelspec": {
   "display_name": "Python 3",
   "language": "python",
   "name": "python3"
  },
  "language_info": {
   "codemirror_mode": {
    "name": "ipython",
    "version": 3
   },
   "file_extension": ".py",
   "mimetype": "text/x-python",
   "name": "python",
   "nbconvert_exporter": "python",
   "pygments_lexer": "ipython3",
   "version": "3.7.6"
  }
 },
 "nbformat": 4,
 "nbformat_minor": 2
}
